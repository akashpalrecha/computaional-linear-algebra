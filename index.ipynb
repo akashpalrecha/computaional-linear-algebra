{
 "cells": [
  {
   "cell_type": "code",
   "execution_count": null,
   "metadata": {},
   "outputs": [],
   "source": [
    "#hide\n",
    "%config autocompleter.use_jedi=False\n",
    "from computational_linear_algebra.core import *"
   ]
  },
  {
   "cell_type": "markdown",
   "metadata": {},
   "source": [
    "# Computational Linear Algebra by Fast.ai\n",
    "\n",
    "This project contains my work on [Fast.ai](https://www.fast.ai)'s [Computational Linear Algebra Course](https://github.com/fastai/numerical-linear-algebra) along with my own explorations of the subject.<br>\n",
    "Doing this course is also **part** of my semester long project in BITS Pilani's Mathematics Department."
   ]
  },
  {
   "cell_type": "markdown",
   "metadata": {},
   "source": [
    "This is a work in progress. This website be updated as and when I make more progress towards the course."
   ]
  },
  {
   "cell_type": "code",
   "execution_count": null,
   "metadata": {},
   "outputs": [],
   "source": []
  }
 ],
 "metadata": {
  "kernelspec": {
   "display_name": "Python 3",
   "language": "python",
   "name": "python3"
  }
 },
 "nbformat": 4,
 "nbformat_minor": 2
}
