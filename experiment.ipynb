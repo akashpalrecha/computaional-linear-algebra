{
 "cells": [
  {
   "cell_type": "code",
   "execution_count": 1,
   "metadata": {},
   "outputs": [],
   "source": [
    "%reload_ext autoreload\n",
    "%autoreload 2"
   ]
  },
  {
   "cell_type": "code",
   "execution_count": 2,
   "metadata": {},
   "outputs": [],
   "source": [
    "from pca_utils import *\n",
    "from sklearn.datasets import make_classification\n",
    "import gc\n",
    "from tqdm.notebook import tqdm\n",
    "import pandas as pd"
   ]
  },
  {
   "cell_type": "code",
   "execution_count": 3,
   "metadata": {},
   "outputs": [],
   "source": [
    "from pdb import set_trace"
   ]
  },
  {
   "cell_type": "code",
   "execution_count": 4,
   "metadata": {},
   "outputs": [],
   "source": [
    "full, half = torch.float32, torch.float16"
   ]
  },
  {
   "cell_type": "code",
   "execution_count": 5,
   "metadata": {},
   "outputs": [],
   "source": [
    "def get_gaussian_sampler(dimensions=5, mean=0.0, variance=1.0, var_factor=0.25):\n",
    "    mu = torch.tensor([mean]*dimensions).float()\n",
    "    cov= torch.eye(dimensions).float() * (variance**2) * var_factor\n",
    "    sampler = torch.distributions.MultivariateNormal(mu, cov)\n",
    "    return sampler"
   ]
  },
  {
   "cell_type": "code",
   "execution_count": 6,
   "metadata": {},
   "outputs": [],
   "source": [
    "sampler = get_gaussian_sampler()"
   ]
  },
  {
   "cell_type": "code",
   "execution_count": 7,
   "metadata": {},
   "outputs": [
    {
     "data": {
      "text/plain": [
       "tensor([[ 0.3345, -0.4514,  0.0264,  0.4294,  0.0201],\n",
       "        [ 0.0602, -0.2874,  0.0221,  0.0773,  0.4463]], dtype=torch.float16)"
      ]
     },
     "execution_count": 7,
     "metadata": {},
     "output_type": "execute_result"
    }
   ],
   "source": [
    "sampler.sample((2,)).type(half)"
   ]
  },
  {
   "cell_type": "code",
   "execution_count": 8,
   "metadata": {},
   "outputs": [],
   "source": [
    "def get_classification_data(n, features, classes):\n",
    "    n_samples = n\n",
    "    n_features= features\n",
    "    n_informative= int(np.ceil(n_features * 0.75))\n",
    "    n_redundant = 0 # (n_features - n_informative) // 2\n",
    "    n_classes = classes\n",
    "    data = make_classification(n_samples, n_features, n_informative, n_redundant, n_classes=n_classes)\n",
    "    return torch.tensor(data[0]), torch.tensor(data[1])"
   ]
  },
  {
   "cell_type": "markdown",
   "metadata": {},
   "source": [
    "%time\n",
    "x, y = get_classification_data(10000, 400, 2)\n",
    "x.shape, y.shape"
   ]
  },
  {
   "cell_type": "markdown",
   "metadata": {},
   "source": [
    "Need: \n",
    "1. Time for 32 and 16 bit for both scaled and non-scaled\n",
    "2. Relative and absolute accuracy of 16bit/32bit for both scaled and non-scaled for both reduced data and eigen vectors\n",
    "3. So, a total of 12 items (6+6) per dataset"
   ]
  },
  {
   "cell_type": "code",
   "execution_count": 9,
   "metadata": {},
   "outputs": [],
   "source": [
    "def scale_to_01(x):\n",
    "    return x.sub(x.min()).div(x.max())"
   ]
  },
  {
   "cell_type": "code",
   "execution_count": 10,
   "metadata": {},
   "outputs": [],
   "source": [
    "eps = 1e-7\n",
    "def absolute_deviation(preds, targets):\n",
    "    return (preds - targets).mean().abs()\n",
    "\n",
    "def relative_deviation(preds, targets):\n",
    "    return ((preds - targets) / (targets + eps)).mean().abs()"
   ]
  },
  {
   "cell_type": "code",
   "execution_count": 11,
   "metadata": {},
   "outputs": [],
   "source": [
    "def process_results(x32, eigs32, time32, x16, eigs16, time16):\n",
    "    dict1 = {}\n",
    "    dict1['abs_deviation'], dict1['rel_deviation'], dict1['time'] = {}, {}, {}\n",
    "    dict1['abs_deviation']['data'] = absolute_deviation(x16, x32).item() if type(x16) != int else 0\n",
    "    dict1['rel_deviation']['data'] = relative_deviation(x16, x32).item() if type(x16) != int else 0\n",
    "    dict1['abs_deviation']['eigv'] = absolute_deviation(eigs16, eigs32).item() if type(eigs16) != int else 0\n",
    "    dict1['rel_deviation']['eigv'] = relative_deviation(eigs16, eigs32).item() if type(eigs16) != int else 0\n",
    "    dict1['time'][16] = time16\n",
    "    dict1['time'][32] = time32\n",
    "    return dict1"
   ]
  },
  {
   "cell_type": "code",
   "execution_count": 12,
   "metadata": {},
   "outputs": [],
   "source": [
    "def get_results(x, iterations=10, scaled_only=True, debug=False):\n",
    "    res = {}\n",
    "    time = torch.zeros((2, 50))\n",
    "    if x.shape[0] >= 1000000:\n",
    "        if x.shape[0] >= 5000000: iterations = 2\n",
    "        else: iterations = 5\n",
    "    if not scaled_only:\n",
    "        if debug: print(\"Processing non-scaled dataset\")\n",
    "        for i in range(iterations):\n",
    "            (x32, eigs32), time[0, i] = torchPCA(x, k=3, fp16=False)\n",
    "            (x16, eigs16), time[1, i] = torchPCA(x, k=3, fp16=True)\n",
    "        time32, time16 = time[0,:].mean().item(), time[1,:].mean().item()\n",
    "    else:\n",
    "        x32, eigs32, time32, x16, eigs16, time16 = 0, 0, 0, 0, 0, 0        \n",
    "    \n",
    "    if debug: set_trace()\n",
    "    res['non_scaled'] = process_results(x32, eigs32, time32, x16, eigs16, time16)\n",
    "    \n",
    "    x = scale_to_01(x)\n",
    "    \n",
    "    time = torch.zeros((2, 50))\n",
    "    if debug: print(\"Processing scaled (to 0-1 range) dataset\")\n",
    "    for i in range(iterations):\n",
    "        (x32, eigs32), time[0, i] = torchPCA(x, k=3, fp16=False)\n",
    "        (x16, eigs16), time[1, i] = torchPCA(x, k=3, fp16=True)\n",
    "    time32, time16 = time[0,:].mean().item(), time[1,:].mean().item()\n",
    "    \n",
    "    if debug: set_trace()\n",
    "    res['scaled'] = process_results(x32, eigs32, time32, x16, eigs16, time16)\n",
    "    return res"
   ]
  },
  {
   "cell_type": "code",
   "execution_count": 13,
   "metadata": {},
   "outputs": [],
   "source": [
    "sampler = get_gaussian_sampler(200, 0, 1)\n",
    "# x = scale_to_01(sampler.sample((1000000,)))\n",
    "x = sampler.sample((100000,))\n",
    "\n",
    "# x = x.type(torch.float16).cuda()"
   ]
  },
  {
   "cell_type": "markdown",
   "metadata": {},
   "source": [
    "cov = torchCov(x, debug=False)\n",
    "\n",
    "cov.min(), cov.max()"
   ]
  },
  {
   "cell_type": "code",
   "execution_count": 14,
   "metadata": {},
   "outputs": [
    {
     "data": {
      "text/plain": [
       "{'non_scaled': {'abs_deviation': {'data': 9.76211504166713e-06,\n",
       "   'eigv': 0.02815176732838154},\n",
       "  'rel_deviation': {'data': 5.141624927520752, 'eigv': 0.9940662980079651},\n",
       "  'time': {16: 0.003105799900367856, 32: 0.00905982032418251}},\n",
       " 'scaled': {'abs_deviation': {'data': 0.0001512068120064214,\n",
       "   'eigv': 0.028739726170897484},\n",
       "  'rel_deviation': {'data': 0.1260276585817337, 'eigv': 1.0468394756317139},\n",
       "  'time': {16: 0.003294499823823571, 32: 0.006751899607479572}}}"
      ]
     },
     "execution_count": 14,
     "metadata": {},
     "output_type": "execute_result"
    }
   ],
   "source": [
    "res = get_results(x, scaled_only=False); res"
   ]
  },
  {
   "cell_type": "code",
   "execution_count": 15,
   "metadata": {},
   "outputs": [],
   "source": [
    "def write_result(i:int, n:int, dimensions:int, k:int, mean:float, var:float, res:dict, df:pd.DataFrame, output:str=\"results.csv\"):\n",
    "    scaled, nscaled = res['scaled'], res['non_scaled']\n",
    "    absd, reld = 'abs_deviation', 'rel_deviation'\n",
    "    res1 = [scaled[absd]['data'], scaled[absd]['eigv'], scaled[reld]['data'], scaled[reld]['eigv']]\n",
    "    res1+= [scaled['time'][16], scaled['time'][32]]\n",
    "    res2 = [nscaled[absd]['data'], nscaled[absd]['eigv'], nscaled[reld]['data'], nscaled[reld]['eigv']]\n",
    "    res2+= [nscaled['time'][16], nscaled['time'][32]]\n",
    "    res1 = [True, n, dimensions, k, mean, var] + res1\n",
    "    res2 = [False, n, dimensions,k, mean, var] + res2\n",
    "    df.iloc[i]   = res1\n",
    "    df.iloc[i+1] = res2\n",
    "    if i % 5 == 0: \n",
    "        print(\"Writing to CSV...\")\n",
    "        df.to_csv(output)"
   ]
  },
  {
   "cell_type": "code",
   "execution_count": 16,
   "metadata": {},
   "outputs": [
    {
     "name": "stdout",
     "output_type": "stream",
     "text": [
      "1088\n"
     ]
    },
    {
     "data": {
      "text/plain": [
       "Scaled                   bool\n",
       "N                       int64\n",
       "Dimensions              int64\n",
       "K                       int64\n",
       "Mean                  float64\n",
       "Variance              float64\n",
       "abs_deviation_data    float64\n",
       "abs_deviation_eigv    float64\n",
       "rel_deviation_data    float64\n",
       "rel_deviation_eigv    float64\n",
       "time_16               float64\n",
       "time_32               float64\n",
       "dtype: object"
      ]
     },
     "execution_count": 16,
     "metadata": {},
     "output_type": "execute_result"
    }
   ],
   "source": [
    "mean_vars = [[0, 1], [0, 4], [0, 16], [0, 64], [0, 128], [0, 512], [0, 2048], [0, 8192], [0, 32768], [0, 65519]]\n",
    "mean_vars+= [[1.5, 0.5], [1.5, 3], [3, 1]]\n",
    "mean_vars+= [[6, 2], [6, 12], [12, 4]]\n",
    "mean_vars+= [[24, 8], [24, 48], [48, 16]]\n",
    "mean_vars+= [[96, 32], [96, 192], [192, 64]]\n",
    "mean_vars+= [[384, 128], [384, 768], [768, 256]]\n",
    "mean_vars+= [[1536, 512], [1536, 3072], [3072, 1024]]\n",
    "mean_vars+= [[6144, 2048], [6144, 12288], [12288, 4096]]\n",
    "mean_vars+= [[24576, 8192], [24576, 32768], [49152, 16384]]\n",
    "\n",
    "n_values  = [100, 200, 500, 1000, 2000, 5000, 10000, 20000, 50000, 100000, 200000, 500000, 1000000, 2000000\n",
    "            ,5000000, 10000000]\n",
    "dimensions= [10, 50, 100, 200, 400]\n",
    "dimensions= [10, ]\n",
    "\n",
    "total = len(n_values) * len(mean_vars) * len(dimensions) * 2\n",
    "k = 3\n",
    "max_retries = 8\n",
    "print(total)\n",
    "\n",
    "df = pd.DataFrame(np.zeros((total, 12)), columns=['Scaled', 'N', 'Dimensions', 'K', 'Mean', 'Variance',\n",
    "                                                'abs_deviation_data', 'abs_deviation_eigv',\n",
    "                                                'rel_deviation_data', 'rel_deviation_eigv',\n",
    "                                                'time_16', 'time_32'])\n",
    "\n",
    "df.Scaled = df.Scaled.astype(bool)\n",
    "df.N = df.N.astype(int)\n",
    "df.Dimensions = df.Dimensions.astype(int)\n",
    "df.K = df.K.astype(int)\n",
    "\n",
    "df.dtypes"
   ]
  },
  {
   "cell_type": "code",
   "execution_count": null,
   "metadata": {},
   "outputs": [
    {
     "name": "stdout",
     "output_type": "stream",
     "text": [
      "Number of columns: 10\n"
     ]
    },
    {
     "data": {
      "application/vnd.jupyter.widget-view+json": {
       "model_id": "d75370fd6c0d41b89200094249d854c5",
       "version_major": 2,
       "version_minor": 0
      },
      "text/plain": [
       "HBox(children=(FloatProgress(value=0.0, max=34.0), HTML(value='')))"
      ]
     },
     "metadata": {},
     "output_type": "display_data"
    },
    {
     "data": {
      "application/vnd.jupyter.widget-view+json": {
       "model_id": "a5dc763db6a0486599e18c40e432fd4d",
       "version_major": 2,
       "version_minor": 0
      },
      "text/plain": [
       "HBox(children=(FloatProgress(value=0.0, max=16.0), HTML(value='')))"
      ]
     },
     "metadata": {},
     "output_type": "display_data"
    },
    {
     "name": "stdout",
     "output_type": "stream",
     "text": [
      "Writing to CSV...\n",
      "Writing to CSV...\n",
      "Writing to CSV...\n",
      "Writing to CSV...\n",
      "\n"
     ]
    },
    {
     "data": {
      "application/vnd.jupyter.widget-view+json": {
       "model_id": "44053272c1a14eb4b065c9e0c2df1099",
       "version_major": 2,
       "version_minor": 0
      },
      "text/plain": [
       "HBox(children=(FloatProgress(value=0.0, max=16.0), HTML(value='')))"
      ]
     },
     "metadata": {},
     "output_type": "display_data"
    },
    {
     "name": "stdout",
     "output_type": "stream",
     "text": [
      "Writing to CSV...\n",
      "Writing to CSV...\n",
      "Writing to CSV...\n",
      "\n"
     ]
    },
    {
     "data": {
      "application/vnd.jupyter.widget-view+json": {
       "model_id": "13a6432a4fdb45b190949619f7fac95b",
       "version_major": 2,
       "version_minor": 0
      },
      "text/plain": [
       "HBox(children=(FloatProgress(value=0.0, max=16.0), HTML(value='')))"
      ]
     },
     "metadata": {},
     "output_type": "display_data"
    },
    {
     "name": "stdout",
     "output_type": "stream",
     "text": [
      "Writing to CSV...\n",
      "Writing to CSV...\n",
      "Writing to CSV...\n",
      "\n"
     ]
    },
    {
     "data": {
      "application/vnd.jupyter.widget-view+json": {
       "model_id": "4c942b84d8484160b0a3581f7a41c3d5",
       "version_major": 2,
       "version_minor": 0
      },
      "text/plain": [
       "HBox(children=(FloatProgress(value=0.0, max=16.0), HTML(value='')))"
      ]
     },
     "metadata": {},
     "output_type": "display_data"
    },
    {
     "name": "stdout",
     "output_type": "stream",
     "text": [
      "Writing to CSV...\n",
      "Writing to CSV...\n",
      "Writing to CSV...\n",
      "\n"
     ]
    },
    {
     "data": {
      "application/vnd.jupyter.widget-view+json": {
       "model_id": "4022414aba31419a84f691ef87d3f6c7",
       "version_major": 2,
       "version_minor": 0
      },
      "text/plain": [
       "HBox(children=(FloatProgress(value=0.0, max=16.0), HTML(value='')))"
      ]
     },
     "metadata": {},
     "output_type": "display_data"
    },
    {
     "name": "stdout",
     "output_type": "stream",
     "text": [
      "Writing to CSV...\n",
      "Writing to CSV...\n",
      "Writing to CSV...\n",
      "\n"
     ]
    },
    {
     "data": {
      "application/vnd.jupyter.widget-view+json": {
       "model_id": "a50819fd6ad941f78c515cdc1b45cd88",
       "version_major": 2,
       "version_minor": 0
      },
      "text/plain": [
       "HBox(children=(FloatProgress(value=0.0, max=16.0), HTML(value='')))"
      ]
     },
     "metadata": {},
     "output_type": "display_data"
    },
    {
     "name": "stdout",
     "output_type": "stream",
     "text": [
      "Writing to CSV...\n",
      "Writing to CSV...\n",
      "Writing to CSV...\n",
      "Writing to CSV...\n",
      "\n"
     ]
    },
    {
     "data": {
      "application/vnd.jupyter.widget-view+json": {
       "model_id": "b7f2b1b68a5146c5a4ee804f9a26c4d6",
       "version_major": 2,
       "version_minor": 0
      },
      "text/plain": [
       "HBox(children=(FloatProgress(value=0.0, max=16.0), HTML(value='')))"
      ]
     },
     "metadata": {},
     "output_type": "display_data"
    },
    {
     "name": "stdout",
     "output_type": "stream",
     "text": [
      "Writing to CSV...\n",
      "Writing to CSV...\n",
      "Writing to CSV...\n",
      "\n"
     ]
    },
    {
     "data": {
      "application/vnd.jupyter.widget-view+json": {
       "model_id": "438138d7ec924432a3ba7ac6cef08d68",
       "version_major": 2,
       "version_minor": 0
      },
      "text/plain": [
       "HBox(children=(FloatProgress(value=0.0, max=16.0), HTML(value='')))"
      ]
     },
     "metadata": {},
     "output_type": "display_data"
    },
    {
     "name": "stdout",
     "output_type": "stream",
     "text": [
      "Writing to CSV...\n",
      "Writing to CSV...\n",
      "Writing to CSV...\n",
      "\n"
     ]
    },
    {
     "data": {
      "application/vnd.jupyter.widget-view+json": {
       "model_id": "4ab023226822457b8a08591847153e47",
       "version_major": 2,
       "version_minor": 0
      },
      "text/plain": [
       "HBox(children=(FloatProgress(value=0.0, max=16.0), HTML(value='')))"
      ]
     },
     "metadata": {},
     "output_type": "display_data"
    },
    {
     "name": "stdout",
     "output_type": "stream",
     "text": [
      "Writing to CSV...\n",
      "Writing to CSV...\n",
      "Writing to CSV...\n",
      "\n"
     ]
    },
    {
     "data": {
      "application/vnd.jupyter.widget-view+json": {
       "model_id": "0072731925d4408e940ee3697fa18d8c",
       "version_major": 2,
       "version_minor": 0
      },
      "text/plain": [
       "HBox(children=(FloatProgress(value=0.0, max=16.0), HTML(value='')))"
      ]
     },
     "metadata": {},
     "output_type": "display_data"
    },
    {
     "name": "stdout",
     "output_type": "stream",
     "text": [
      "Writing to CSV...\n",
      "Writing to CSV...\n",
      "Writing to CSV...\n",
      "\n"
     ]
    },
    {
     "data": {
      "application/vnd.jupyter.widget-view+json": {
       "model_id": "2b3e4b4a611b4023bbd9ae6301d7792e",
       "version_major": 2,
       "version_minor": 0
      },
      "text/plain": [
       "HBox(children=(FloatProgress(value=0.0, max=16.0), HTML(value='')))"
      ]
     },
     "metadata": {},
     "output_type": "display_data"
    },
    {
     "name": "stdout",
     "output_type": "stream",
     "text": [
      "Writing to CSV...\n",
      "Writing to CSV...\n",
      "Writing to CSV...\n",
      "Writing to CSV...\n",
      "\n"
     ]
    },
    {
     "data": {
      "application/vnd.jupyter.widget-view+json": {
       "model_id": "00d3e9aa0c2f48388ff22034c2a0f3f4",
       "version_major": 2,
       "version_minor": 0
      },
      "text/plain": [
       "HBox(children=(FloatProgress(value=0.0, max=16.0), HTML(value='')))"
      ]
     },
     "metadata": {},
     "output_type": "display_data"
    },
    {
     "name": "stdout",
     "output_type": "stream",
     "text": [
      "Writing to CSV...\n",
      "Writing to CSV...\n",
      "Writing to CSV...\n",
      "\n"
     ]
    },
    {
     "data": {
      "application/vnd.jupyter.widget-view+json": {
       "model_id": "ddde00a179c449d694c294f587cafcbf",
       "version_major": 2,
       "version_minor": 0
      },
      "text/plain": [
       "HBox(children=(FloatProgress(value=0.0, max=16.0), HTML(value='')))"
      ]
     },
     "metadata": {},
     "output_type": "display_data"
    },
    {
     "name": "stdout",
     "output_type": "stream",
     "text": [
      "Writing to CSV...\n",
      "Writing to CSV...\n",
      "Writing to CSV...\n",
      "\n"
     ]
    },
    {
     "data": {
      "application/vnd.jupyter.widget-view+json": {
       "model_id": "95c6045a9dac4bad87f88ece034173c6",
       "version_major": 2,
       "version_minor": 0
      },
      "text/plain": [
       "HBox(children=(FloatProgress(value=0.0, max=16.0), HTML(value='')))"
      ]
     },
     "metadata": {},
     "output_type": "display_data"
    },
    {
     "name": "stdout",
     "output_type": "stream",
     "text": [
      "Writing to CSV...\n",
      "Writing to CSV...\n",
      "Writing to CSV...\n",
      "\n"
     ]
    },
    {
     "data": {
      "application/vnd.jupyter.widget-view+json": {
       "model_id": "eb4ef9ae2af44f08869cabca8d058893",
       "version_major": 2,
       "version_minor": 0
      },
      "text/plain": [
       "HBox(children=(FloatProgress(value=0.0, max=16.0), HTML(value='')))"
      ]
     },
     "metadata": {},
     "output_type": "display_data"
    },
    {
     "name": "stdout",
     "output_type": "stream",
     "text": [
      "Writing to CSV...\n",
      "Writing to CSV...\n",
      "Writing to CSV...\n",
      "\n"
     ]
    },
    {
     "data": {
      "application/vnd.jupyter.widget-view+json": {
       "model_id": "fefe95b4bdeb42e0a1dc254110eb1fa0",
       "version_major": 2,
       "version_minor": 0
      },
      "text/plain": [
       "HBox(children=(FloatProgress(value=0.0, max=16.0), HTML(value='')))"
      ]
     },
     "metadata": {},
     "output_type": "display_data"
    },
    {
     "name": "stdout",
     "output_type": "stream",
     "text": [
      "Writing to CSV...\n",
      "Writing to CSV...\n",
      "Writing to CSV...\n",
      "Writing to CSV...\n",
      "\n"
     ]
    },
    {
     "data": {
      "application/vnd.jupyter.widget-view+json": {
       "model_id": "a957f80c52134dca96fe107690f535cf",
       "version_major": 2,
       "version_minor": 0
      },
      "text/plain": [
       "HBox(children=(FloatProgress(value=0.0, max=16.0), HTML(value='')))"
      ]
     },
     "metadata": {},
     "output_type": "display_data"
    },
    {
     "name": "stdout",
     "output_type": "stream",
     "text": [
      "Writing to CSV...\n",
      "Writing to CSV...\n",
      "Writing to CSV...\n",
      "\n"
     ]
    },
    {
     "data": {
      "application/vnd.jupyter.widget-view+json": {
       "model_id": "a5be8284dac64ce799db994ec7454cb9",
       "version_major": 2,
       "version_minor": 0
      },
      "text/plain": [
       "HBox(children=(FloatProgress(value=0.0, max=16.0), HTML(value='')))"
      ]
     },
     "metadata": {},
     "output_type": "display_data"
    },
    {
     "name": "stdout",
     "output_type": "stream",
     "text": [
      "Writing to CSV...\n",
      "Writing to CSV...\n",
      "Writing to CSV...\n",
      "\n"
     ]
    },
    {
     "data": {
      "application/vnd.jupyter.widget-view+json": {
       "model_id": "60f1f4bab2f946b980d14e6a348a22c7",
       "version_major": 2,
       "version_minor": 0
      },
      "text/plain": [
       "HBox(children=(FloatProgress(value=0.0, max=16.0), HTML(value='')))"
      ]
     },
     "metadata": {},
     "output_type": "display_data"
    },
    {
     "name": "stdout",
     "output_type": "stream",
     "text": [
      "Writing to CSV...\n",
      "Writing to CSV...\n",
      "Writing to CSV...\n",
      "\n"
     ]
    },
    {
     "data": {
      "application/vnd.jupyter.widget-view+json": {
       "model_id": "968dec7753a44b1ba0069e28bb3fd968",
       "version_major": 2,
       "version_minor": 0
      },
      "text/plain": [
       "HBox(children=(FloatProgress(value=0.0, max=16.0), HTML(value='')))"
      ]
     },
     "metadata": {},
     "output_type": "display_data"
    }
   ],
   "source": [
    "skipped = []\n",
    "pos = 0\n",
    "debug = True\n",
    "for dimension in dimensions:\n",
    "    print(f\"Number of columns: {dimension}\")\n",
    "    for i, (mean, var) in tqdm(list(enumerate(mean_vars))):\n",
    "        if debug and i == 2: break\n",
    "        sampler = get_gaussian_sampler(dimension, mean, var)\n",
    "        df.to_csv(\"results.csv\")\n",
    "        for n in tqdm(n_values):\n",
    "            if dimension == 400 and n == 10000000: continue\n",
    "            still_doing = max_retries\n",
    "            scaled_only=False\n",
    "            while still_doing > 0:\n",
    "                try:\n",
    "                    data = sampler.sample((n,))\n",
    "                    res = get_results(data, scaled_only=scaled_only)\n",
    "                    still_doing = 0\n",
    "                    write_result(pos, n, dimension, k, mean, var, res, df)\n",
    "                    pos += 2\n",
    "                except:\n",
    "                    still_doing -= 1\n",
    "                    if still_doing == max_retries // 2:\n",
    "                        scaled_only = True\n",
    "                    if still_doing == 0:\n",
    "                        print(f\"Skipping N={n}\\t Mean={mean}\\t Var={var}\")\n",
    "                        skipped.append([n, mean, var])\n",
    "                        \n",
    "df.to_csv(\"results.csv\")"
   ]
  },
  {
   "cell_type": "code",
   "execution_count": 17,
   "metadata": {},
   "outputs": [
    {
     "name": "stderr",
     "output_type": "stream",
     "text": [
      "  0%|          | 0/34 [00:00<?, ?it/s]\n",
      "  0%|          | 0/16 [00:00<?, ?it/s]\u001b[A"
     ]
    },
    {
     "name": "stdout",
     "output_type": "stream",
     "text": [
      "1088\n",
      "Number of columns: 10\n"
     ]
    },
    {
     "name": "stderr",
     "output_type": "stream",
     "text": [
      "\n",
      "  6%|▋         | 1/16 [00:00<00:02,  5.24it/s]\u001b[A\n",
      " 12%|█▎        | 2/16 [00:00<00:02,  5.78it/s]\u001b[A"
     ]
    },
    {
     "name": "stdout",
     "output_type": "stream",
     "text": [
      "Writing to CSV: done!\n"
     ]
    },
    {
     "name": "stderr",
     "output_type": "stream",
     "text": [
      "\n",
      " 19%|█▉        | 3/16 [00:00<00:02,  6.22it/s]\u001b[A\n",
      " 25%|██▌       | 4/16 [00:00<00:01,  6.56it/s]\u001b[A\n",
      " 31%|███▏      | 5/16 [00:00<00:01,  6.80it/s]\u001b[A\n",
      " 38%|███▊      | 6/16 [00:00<00:01,  6.68it/s]\u001b[A\n",
      " 44%|████▍     | 7/16 [00:01<00:01,  6.82it/s]\u001b[A"
     ]
    },
    {
     "name": "stdout",
     "output_type": "stream",
     "text": [
      "Writing to CSV: done!\n"
     ]
    },
    {
     "name": "stderr",
     "output_type": "stream",
     "text": [
      "\n",
      " 50%|█████     | 8/16 [00:01<00:01,  6.87it/s]\u001b[A\n",
      " 56%|█████▋    | 9/16 [00:01<00:01,  6.64it/s]\u001b[A\n",
      " 62%|██████▎   | 10/16 [00:01<00:00,  6.11it/s]\u001b[A\n",
      " 69%|██████▉   | 11/16 [00:01<00:01,  4.79it/s]\u001b[A"
     ]
    },
    {
     "name": "stdout",
     "output_type": "stream",
     "text": [
      "Writing to CSV: done!\n"
     ]
    },
    {
     "name": "stderr",
     "output_type": "stream",
     "text": [
      "\n",
      " 75%|███████▌  | 12/16 [00:02<00:01,  3.29it/s]\u001b[A\n",
      " 81%|████████▏ | 13/16 [00:02<00:01,  2.72it/s]\u001b[A\n",
      " 88%|████████▊ | 14/16 [00:03<00:01,  1.80it/s]\u001b[A\n",
      " 94%|█████████▍| 15/16 [00:05<00:00,  1.25it/s]\u001b[A\n",
      "100%|██████████| 16/16 [00:07<00:00,  2.02it/s]\u001b[A\n",
      "  3%|▎         | 1/34 [00:07<04:22,  7.95s/it]\n",
      "  0%|          | 0/16 [00:00<?, ?it/s]\u001b[A\n",
      "  6%|▋         | 1/16 [00:00<00:02,  7.36it/s]\u001b[A"
     ]
    },
    {
     "name": "stdout",
     "output_type": "stream",
     "text": [
      "Writing to CSV: done!\n"
     ]
    },
    {
     "name": "stderr",
     "output_type": "stream",
     "text": [
      "\n",
      " 12%|█▎        | 2/16 [00:00<00:01,  7.55it/s]\u001b[A\n",
      " 19%|█▉        | 3/16 [00:00<00:01,  7.58it/s]\u001b[A\n",
      " 25%|██▌       | 4/16 [00:00<00:01,  7.59it/s]\u001b[A\n",
      " 31%|███▏      | 5/16 [00:00<00:01,  7.29it/s]\u001b[A\n",
      " 38%|███▊      | 6/16 [00:00<00:01,  7.06it/s]\u001b[A"
     ]
    },
    {
     "name": "stdout",
     "output_type": "stream",
     "text": [
      "Writing to CSV: done!\n"
     ]
    },
    {
     "name": "stderr",
     "output_type": "stream",
     "text": [
      "\n",
      " 44%|████▍     | 7/16 [00:00<00:01,  6.91it/s]\u001b[A\n",
      " 50%|█████     | 8/16 [00:01<00:01,  6.56it/s]\u001b[A\n",
      " 56%|█████▋    | 9/16 [00:01<00:01,  5.92it/s]\u001b[A\n",
      " 62%|██████▎   | 10/16 [00:01<00:01,  5.08it/s]\u001b[A"
     ]
    },
    {
     "name": "stdout",
     "output_type": "stream",
     "text": [
      "Writing to CSV: done!\n"
     ]
    },
    {
     "name": "stderr",
     "output_type": "stream",
     "text": [
      "\n",
      " 69%|██████▉   | 11/16 [00:01<00:01,  4.23it/s]\u001b[A\n",
      " 75%|███████▌  | 12/16 [00:02<00:01,  3.04it/s]\u001b[A\n",
      " 81%|████████▏ | 13/16 [00:03<00:01,  2.56it/s]\u001b[A\n",
      " 88%|████████▊ | 14/16 [00:04<00:01,  1.73it/s]\u001b[A\n",
      " 94%|█████████▍| 15/16 [00:05<00:00,  1.22it/s]\u001b[A"
     ]
    },
    {
     "name": "stdout",
     "output_type": "stream",
     "text": [
      "Writing to CSV: done!\n"
     ]
    },
    {
     "name": "stderr",
     "output_type": "stream",
     "text": [
      "\n",
      "100%|██████████| 16/16 [00:08<00:00,  1.97it/s]\u001b[A\n",
      "  6%|▌         | 2/34 [00:16<04:17,  8.05s/it]\n"
     ]
    }
   ],
   "source": [
    "%run run_exp"
   ]
  },
  {
   "cell_type": "code",
   "execution_count": null,
   "metadata": {},
   "outputs": [],
   "source": [
    "df"
   ]
  },
  {
   "cell_type": "code",
   "execution_count": 25,
   "metadata": {},
   "outputs": [
    {
     "data": {
      "text/plain": [
       "'[[1, 2], [3, 4], [5, 6]]'"
      ]
     },
     "execution_count": 25,
     "metadata": {},
     "output_type": "execute_result"
    }
   ],
   "source": [
    "str(skipped)"
   ]
  },
  {
   "cell_type": "code",
   "execution_count": 27,
   "metadata": {},
   "outputs": [],
   "source": [
    "skip_f = open(\"skipped.txt\", \"w\")"
   ]
  },
  {
   "cell_type": "code",
   "execution_count": 28,
   "metadata": {},
   "outputs": [],
   "source": [
    "skip_f.write(str(skipped) + \"\\n\")\n",
    "skip_f.close()"
   ]
  },
  {
   "cell_type": "code",
   "execution_count": 25,
   "metadata": {},
   "outputs": [
    {
     "data": {
      "text/plain": [
       "[[1000, 0, 32768],\n",
       " [2000, 0, 32768],\n",
       " [5000, 0, 32768],\n",
       " [10000, 0, 32768],\n",
       " [20000, 0, 32768],\n",
       " [50000, 0, 32768],\n",
       " [100, 0, 65519],\n",
       " [200, 0, 65519],\n",
       " [500, 0, 65519],\n",
       " [1000, 0, 65519],\n",
       " [2000, 0, 65519],\n",
       " [5000, 0, 65519],\n",
       " [10000, 0, 65519],\n",
       " [20000, 0, 65519],\n",
       " [50000, 0, 65519],\n",
       " [100, 24576, 32768],\n",
       " [200, 24576, 32768],\n",
       " [500, 24576, 32768],\n",
       " [1000, 24576, 32768],\n",
       " [2000, 24576, 32768],\n",
       " [5000, 24576, 32768],\n",
       " [10000, 24576, 32768],\n",
       " [20000, 24576, 32768],\n",
       " [50000, 24576, 32768],\n",
       " [100, 49152, 16384],\n",
       " [200, 49152, 16384],\n",
       " [500, 49152, 16384],\n",
       " [1000, 49152, 16384],\n",
       " [2000, 49152, 16384],\n",
       " [5000, 49152, 16384],\n",
       " [10000, 49152, 16384],\n",
       " [20000, 49152, 16384],\n",
       " [50000, 49152, 16384]]"
      ]
     },
     "execution_count": 25,
     "metadata": {},
     "output_type": "execute_result"
    }
   ],
   "source": [
    "skipped"
   ]
  },
  {
   "cell_type": "code",
   "execution_count": 26,
   "metadata": {},
   "outputs": [
    {
     "data": {
      "text/html": [
       "<div>\n",
       "<style scoped>\n",
       "    .dataframe tbody tr th:only-of-type {\n",
       "        vertical-align: middle;\n",
       "    }\n",
       "\n",
       "    .dataframe tbody tr th {\n",
       "        vertical-align: top;\n",
       "    }\n",
       "\n",
       "    .dataframe thead th {\n",
       "        text-align: right;\n",
       "    }\n",
       "</style>\n",
       "<table border=\"1\" class=\"dataframe\">\n",
       "  <thead>\n",
       "    <tr style=\"text-align: right;\">\n",
       "      <th></th>\n",
       "      <th>Scaled</th>\n",
       "      <th>N</th>\n",
       "      <th>Dimensions</th>\n",
       "      <th>K</th>\n",
       "      <th>Mean</th>\n",
       "      <th>Variance</th>\n",
       "      <th>abs_deviation_data</th>\n",
       "      <th>abs_deviation_eigv</th>\n",
       "      <th>rel_deviation_data</th>\n",
       "      <th>rel_deviation_eigv</th>\n",
       "      <th>time_16</th>\n",
       "      <th>time_32</th>\n",
       "    </tr>\n",
       "  </thead>\n",
       "  <tbody>\n",
       "    <tr>\n",
       "      <th>0</th>\n",
       "      <td>True</td>\n",
       "      <td>100</td>\n",
       "      <td>100</td>\n",
       "      <td>3</td>\n",
       "      <td>0.0</td>\n",
       "      <td>1.0</td>\n",
       "      <td>2.133828e-05</td>\n",
       "      <td>0.000015</td>\n",
       "      <td>0.000547</td>\n",
       "      <td>0.015347</td>\n",
       "      <td>0.003768</td>\n",
       "      <td>0.003700</td>\n",
       "    </tr>\n",
       "    <tr>\n",
       "      <th>1</th>\n",
       "      <td>False</td>\n",
       "      <td>100</td>\n",
       "      <td>100</td>\n",
       "      <td>3</td>\n",
       "      <td>0.0</td>\n",
       "      <td>1.0</td>\n",
       "      <td>3.905979e-05</td>\n",
       "      <td>0.000002</td>\n",
       "      <td>0.000699</td>\n",
       "      <td>0.007553</td>\n",
       "      <td>0.003940</td>\n",
       "      <td>0.004084</td>\n",
       "    </tr>\n",
       "    <tr>\n",
       "      <th>2</th>\n",
       "      <td>True</td>\n",
       "      <td>200</td>\n",
       "      <td>100</td>\n",
       "      <td>3</td>\n",
       "      <td>0.0</td>\n",
       "      <td>1.0</td>\n",
       "      <td>7.224416e-05</td>\n",
       "      <td>0.000040</td>\n",
       "      <td>0.074825</td>\n",
       "      <td>0.002692</td>\n",
       "      <td>0.003808</td>\n",
       "      <td>0.003843</td>\n",
       "    </tr>\n",
       "    <tr>\n",
       "      <th>3</th>\n",
       "      <td>False</td>\n",
       "      <td>200</td>\n",
       "      <td>100</td>\n",
       "      <td>3</td>\n",
       "      <td>0.0</td>\n",
       "      <td>1.0</td>\n",
       "      <td>9.220442e-06</td>\n",
       "      <td>0.016511</td>\n",
       "      <td>1.383038</td>\n",
       "      <td>1.332179</td>\n",
       "      <td>0.003750</td>\n",
       "      <td>0.003757</td>\n",
       "    </tr>\n",
       "    <tr>\n",
       "      <th>4</th>\n",
       "      <td>True</td>\n",
       "      <td>500</td>\n",
       "      <td>100</td>\n",
       "      <td>3</td>\n",
       "      <td>0.0</td>\n",
       "      <td>1.0</td>\n",
       "      <td>1.104968e-04</td>\n",
       "      <td>0.003833</td>\n",
       "      <td>1.346836</td>\n",
       "      <td>1.353642</td>\n",
       "      <td>0.003776</td>\n",
       "      <td>0.003791</td>\n",
       "    </tr>\n",
       "    <tr>\n",
       "      <th>5</th>\n",
       "      <td>False</td>\n",
       "      <td>500</td>\n",
       "      <td>100</td>\n",
       "      <td>3</td>\n",
       "      <td>0.0</td>\n",
       "      <td>1.0</td>\n",
       "      <td>2.278328e-06</td>\n",
       "      <td>0.003493</td>\n",
       "      <td>2.000345</td>\n",
       "      <td>2.001043</td>\n",
       "      <td>0.004035</td>\n",
       "      <td>0.003965</td>\n",
       "    </tr>\n",
       "    <tr>\n",
       "      <th>6</th>\n",
       "      <td>True</td>\n",
       "      <td>1000</td>\n",
       "      <td>100</td>\n",
       "      <td>3</td>\n",
       "      <td>0.0</td>\n",
       "      <td>1.0</td>\n",
       "      <td>5.381965e-05</td>\n",
       "      <td>0.015442</td>\n",
       "      <td>2.005904</td>\n",
       "      <td>1.773590</td>\n",
       "      <td>0.004369</td>\n",
       "      <td>0.004352</td>\n",
       "    </tr>\n",
       "    <tr>\n",
       "      <th>7</th>\n",
       "      <td>False</td>\n",
       "      <td>1000</td>\n",
       "      <td>100</td>\n",
       "      <td>3</td>\n",
       "      <td>0.0</td>\n",
       "      <td>1.0</td>\n",
       "      <td>1.916567e-05</td>\n",
       "      <td>0.015419</td>\n",
       "      <td>2.005364</td>\n",
       "      <td>1.982639</td>\n",
       "      <td>0.003820</td>\n",
       "      <td>0.003846</td>\n",
       "    </tr>\n",
       "    <tr>\n",
       "      <th>8</th>\n",
       "      <td>True</td>\n",
       "      <td>2000</td>\n",
       "      <td>100</td>\n",
       "      <td>3</td>\n",
       "      <td>0.0</td>\n",
       "      <td>1.0</td>\n",
       "      <td>7.880147e-05</td>\n",
       "      <td>0.008761</td>\n",
       "      <td>2.001355</td>\n",
       "      <td>1.997978</td>\n",
       "      <td>0.003938</td>\n",
       "      <td>0.004101</td>\n",
       "    </tr>\n",
       "    <tr>\n",
       "      <th>9</th>\n",
       "      <td>False</td>\n",
       "      <td>2000</td>\n",
       "      <td>100</td>\n",
       "      <td>3</td>\n",
       "      <td>0.0</td>\n",
       "      <td>1.0</td>\n",
       "      <td>1.157888e-05</td>\n",
       "      <td>0.006496</td>\n",
       "      <td>1.999981</td>\n",
       "      <td>1.997767</td>\n",
       "      <td>0.003965</td>\n",
       "      <td>0.003888</td>\n",
       "    </tr>\n",
       "    <tr>\n",
       "      <th>10</th>\n",
       "      <td>True</td>\n",
       "      <td>5000</td>\n",
       "      <td>100</td>\n",
       "      <td>3</td>\n",
       "      <td>0.0</td>\n",
       "      <td>1.0</td>\n",
       "      <td>1.015119e-04</td>\n",
       "      <td>0.008765</td>\n",
       "      <td>1.333358</td>\n",
       "      <td>1.328061</td>\n",
       "      <td>0.003894</td>\n",
       "      <td>0.003930</td>\n",
       "    </tr>\n",
       "    <tr>\n",
       "      <th>11</th>\n",
       "      <td>False</td>\n",
       "      <td>5000</td>\n",
       "      <td>100</td>\n",
       "      <td>3</td>\n",
       "      <td>0.0</td>\n",
       "      <td>1.0</td>\n",
       "      <td>2.212016e-05</td>\n",
       "      <td>0.010684</td>\n",
       "      <td>1.999510</td>\n",
       "      <td>1.977729</td>\n",
       "      <td>0.003896</td>\n",
       "      <td>0.003944</td>\n",
       "    </tr>\n",
       "    <tr>\n",
       "      <th>12</th>\n",
       "      <td>True</td>\n",
       "      <td>10000</td>\n",
       "      <td>100</td>\n",
       "      <td>3</td>\n",
       "      <td>0.0</td>\n",
       "      <td>1.0</td>\n",
       "      <td>1.851452e-04</td>\n",
       "      <td>0.001123</td>\n",
       "      <td>1.324291</td>\n",
       "      <td>1.334521</td>\n",
       "      <td>0.004039</td>\n",
       "      <td>0.003974</td>\n",
       "    </tr>\n",
       "    <tr>\n",
       "      <th>13</th>\n",
       "      <td>False</td>\n",
       "      <td>10000</td>\n",
       "      <td>100</td>\n",
       "      <td>3</td>\n",
       "      <td>0.0</td>\n",
       "      <td>1.0</td>\n",
       "      <td>1.949946e-06</td>\n",
       "      <td>0.014151</td>\n",
       "      <td>0.645322</td>\n",
       "      <td>0.667843</td>\n",
       "      <td>0.003909</td>\n",
       "      <td>0.003904</td>\n",
       "    </tr>\n",
       "    <tr>\n",
       "      <th>14</th>\n",
       "      <td>True</td>\n",
       "      <td>20000</td>\n",
       "      <td>100</td>\n",
       "      <td>3</td>\n",
       "      <td>0.0</td>\n",
       "      <td>1.0</td>\n",
       "      <td>9.381564e-05</td>\n",
       "      <td>0.013103</td>\n",
       "      <td>2.033759</td>\n",
       "      <td>1.994124</td>\n",
       "      <td>0.004192</td>\n",
       "      <td>0.004174</td>\n",
       "    </tr>\n",
       "    <tr>\n",
       "      <th>15</th>\n",
       "      <td>False</td>\n",
       "      <td>20000</td>\n",
       "      <td>100</td>\n",
       "      <td>3</td>\n",
       "      <td>0.0</td>\n",
       "      <td>1.0</td>\n",
       "      <td>1.104620e-05</td>\n",
       "      <td>0.000012</td>\n",
       "      <td>1.643295</td>\n",
       "      <td>0.014119</td>\n",
       "      <td>0.004087</td>\n",
       "      <td>0.004125</td>\n",
       "    </tr>\n",
       "    <tr>\n",
       "      <th>16</th>\n",
       "      <td>True</td>\n",
       "      <td>50000</td>\n",
       "      <td>100</td>\n",
       "      <td>3</td>\n",
       "      <td>0.0</td>\n",
       "      <td>1.0</td>\n",
       "      <td>6.935916e-05</td>\n",
       "      <td>0.005825</td>\n",
       "      <td>1.266854</td>\n",
       "      <td>1.348845</td>\n",
       "      <td>0.004320</td>\n",
       "      <td>0.004218</td>\n",
       "    </tr>\n",
       "    <tr>\n",
       "      <th>17</th>\n",
       "      <td>False</td>\n",
       "      <td>50000</td>\n",
       "      <td>100</td>\n",
       "      <td>3</td>\n",
       "      <td>0.0</td>\n",
       "      <td>1.0</td>\n",
       "      <td>1.349839e-05</td>\n",
       "      <td>0.000016</td>\n",
       "      <td>0.024168</td>\n",
       "      <td>0.018968</td>\n",
       "      <td>0.004363</td>\n",
       "      <td>0.004204</td>\n",
       "    </tr>\n",
       "    <tr>\n",
       "      <th>18</th>\n",
       "      <td>True</td>\n",
       "      <td>100</td>\n",
       "      <td>100</td>\n",
       "      <td>3</td>\n",
       "      <td>0.0</td>\n",
       "      <td>4.0</td>\n",
       "      <td>1.382623e-04</td>\n",
       "      <td>0.000017</td>\n",
       "      <td>0.001135</td>\n",
       "      <td>0.000715</td>\n",
       "      <td>0.004102</td>\n",
       "      <td>0.004078</td>\n",
       "    </tr>\n",
       "    <tr>\n",
       "      <th>19</th>\n",
       "      <td>False</td>\n",
       "      <td>100</td>\n",
       "      <td>100</td>\n",
       "      <td>3</td>\n",
       "      <td>0.0</td>\n",
       "      <td>4.0</td>\n",
       "      <td>3.915489e-05</td>\n",
       "      <td>0.000010</td>\n",
       "      <td>0.001434</td>\n",
       "      <td>0.001003</td>\n",
       "      <td>0.003831</td>\n",
       "      <td>0.003926</td>\n",
       "    </tr>\n",
       "    <tr>\n",
       "      <th>20</th>\n",
       "      <td>True</td>\n",
       "      <td>200</td>\n",
       "      <td>100</td>\n",
       "      <td>3</td>\n",
       "      <td>0.0</td>\n",
       "      <td>4.0</td>\n",
       "      <td>1.274471e-04</td>\n",
       "      <td>0.002214</td>\n",
       "      <td>0.668449</td>\n",
       "      <td>0.665053</td>\n",
       "      <td>0.004382</td>\n",
       "      <td>0.004396</td>\n",
       "    </tr>\n",
       "    <tr>\n",
       "      <th>21</th>\n",
       "      <td>False</td>\n",
       "      <td>200</td>\n",
       "      <td>100</td>\n",
       "      <td>3</td>\n",
       "      <td>0.0</td>\n",
       "      <td>4.0</td>\n",
       "      <td>6.158894e-05</td>\n",
       "      <td>0.000002</td>\n",
       "      <td>0.001270</td>\n",
       "      <td>0.000417</td>\n",
       "      <td>0.004083</td>\n",
       "      <td>0.004018</td>\n",
       "    </tr>\n",
       "    <tr>\n",
       "      <th>22</th>\n",
       "      <td>True</td>\n",
       "      <td>500</td>\n",
       "      <td>100</td>\n",
       "      <td>3</td>\n",
       "      <td>0.0</td>\n",
       "      <td>4.0</td>\n",
       "      <td>1.186265e-04</td>\n",
       "      <td>0.000009</td>\n",
       "      <td>0.002715</td>\n",
       "      <td>0.002233</td>\n",
       "      <td>0.003889</td>\n",
       "      <td>0.003906</td>\n",
       "    </tr>\n",
       "    <tr>\n",
       "      <th>23</th>\n",
       "      <td>False</td>\n",
       "      <td>500</td>\n",
       "      <td>100</td>\n",
       "      <td>3</td>\n",
       "      <td>0.0</td>\n",
       "      <td>4.0</td>\n",
       "      <td>1.634216e-05</td>\n",
       "      <td>0.003873</td>\n",
       "      <td>2.005843</td>\n",
       "      <td>1.997597</td>\n",
       "      <td>0.003840</td>\n",
       "      <td>0.003834</td>\n",
       "    </tr>\n",
       "    <tr>\n",
       "      <th>24</th>\n",
       "      <td>True</td>\n",
       "      <td>1000</td>\n",
       "      <td>100</td>\n",
       "      <td>3</td>\n",
       "      <td>0.0</td>\n",
       "      <td>4.0</td>\n",
       "      <td>1.916490e-04</td>\n",
       "      <td>0.002742</td>\n",
       "      <td>1.328993</td>\n",
       "      <td>1.333050</td>\n",
       "      <td>0.004037</td>\n",
       "      <td>0.004015</td>\n",
       "    </tr>\n",
       "    <tr>\n",
       "      <th>25</th>\n",
       "      <td>False</td>\n",
       "      <td>1000</td>\n",
       "      <td>100</td>\n",
       "      <td>3</td>\n",
       "      <td>0.0</td>\n",
       "      <td>4.0</td>\n",
       "      <td>7.223384e-05</td>\n",
       "      <td>0.002707</td>\n",
       "      <td>1.338112</td>\n",
       "      <td>1.333350</td>\n",
       "      <td>0.003872</td>\n",
       "      <td>0.003837</td>\n",
       "    </tr>\n",
       "    <tr>\n",
       "      <th>26</th>\n",
       "      <td>True</td>\n",
       "      <td>2000</td>\n",
       "      <td>100</td>\n",
       "      <td>3</td>\n",
       "      <td>0.0</td>\n",
       "      <td>4.0</td>\n",
       "      <td>2.693056e-04</td>\n",
       "      <td>0.002882</td>\n",
       "      <td>0.678407</td>\n",
       "      <td>0.666049</td>\n",
       "      <td>0.003820</td>\n",
       "      <td>0.003800</td>\n",
       "    </tr>\n",
       "    <tr>\n",
       "      <th>27</th>\n",
       "      <td>False</td>\n",
       "      <td>2000</td>\n",
       "      <td>100</td>\n",
       "      <td>3</td>\n",
       "      <td>0.0</td>\n",
       "      <td>4.0</td>\n",
       "      <td>6.617546e-05</td>\n",
       "      <td>0.000510</td>\n",
       "      <td>2.001511</td>\n",
       "      <td>2.000587</td>\n",
       "      <td>0.003873</td>\n",
       "      <td>0.003838</td>\n",
       "    </tr>\n",
       "    <tr>\n",
       "      <th>28</th>\n",
       "      <td>True</td>\n",
       "      <td>5000</td>\n",
       "      <td>100</td>\n",
       "      <td>3</td>\n",
       "      <td>0.0</td>\n",
       "      <td>4.0</td>\n",
       "      <td>8.635559e-05</td>\n",
       "      <td>0.005266</td>\n",
       "      <td>2.033454</td>\n",
       "      <td>1.996106</td>\n",
       "      <td>0.004078</td>\n",
       "      <td>0.003985</td>\n",
       "    </tr>\n",
       "    <tr>\n",
       "      <th>29</th>\n",
       "      <td>False</td>\n",
       "      <td>5000</td>\n",
       "      <td>100</td>\n",
       "      <td>3</td>\n",
       "      <td>0.0</td>\n",
       "      <td>4.0</td>\n",
       "      <td>1.129150e-07</td>\n",
       "      <td>0.000636</td>\n",
       "      <td>0.729711</td>\n",
       "      <td>0.653980</td>\n",
       "      <td>0.003967</td>\n",
       "      <td>0.003841</td>\n",
       "    </tr>\n",
       "    <tr>\n",
       "      <th>...</th>\n",
       "      <td>...</td>\n",
       "      <td>...</td>\n",
       "      <td>...</td>\n",
       "      <td>...</td>\n",
       "      <td>...</td>\n",
       "      <td>...</td>\n",
       "      <td>...</td>\n",
       "      <td>...</td>\n",
       "      <td>...</td>\n",
       "      <td>...</td>\n",
       "      <td>...</td>\n",
       "      <td>...</td>\n",
       "    </tr>\n",
       "    <tr>\n",
       "      <th>582</th>\n",
       "      <td>False</td>\n",
       "      <td>0</td>\n",
       "      <td>0</td>\n",
       "      <td>0</td>\n",
       "      <td>0.0</td>\n",
       "      <td>0.0</td>\n",
       "      <td>0.000000e+00</td>\n",
       "      <td>0.000000</td>\n",
       "      <td>0.000000</td>\n",
       "      <td>0.000000</td>\n",
       "      <td>0.000000</td>\n",
       "      <td>0.000000</td>\n",
       "    </tr>\n",
       "    <tr>\n",
       "      <th>583</th>\n",
       "      <td>False</td>\n",
       "      <td>0</td>\n",
       "      <td>0</td>\n",
       "      <td>0</td>\n",
       "      <td>0.0</td>\n",
       "      <td>0.0</td>\n",
       "      <td>0.000000e+00</td>\n",
       "      <td>0.000000</td>\n",
       "      <td>0.000000</td>\n",
       "      <td>0.000000</td>\n",
       "      <td>0.000000</td>\n",
       "      <td>0.000000</td>\n",
       "    </tr>\n",
       "    <tr>\n",
       "      <th>584</th>\n",
       "      <td>False</td>\n",
       "      <td>0</td>\n",
       "      <td>0</td>\n",
       "      <td>0</td>\n",
       "      <td>0.0</td>\n",
       "      <td>0.0</td>\n",
       "      <td>0.000000e+00</td>\n",
       "      <td>0.000000</td>\n",
       "      <td>0.000000</td>\n",
       "      <td>0.000000</td>\n",
       "      <td>0.000000</td>\n",
       "      <td>0.000000</td>\n",
       "    </tr>\n",
       "    <tr>\n",
       "      <th>585</th>\n",
       "      <td>False</td>\n",
       "      <td>0</td>\n",
       "      <td>0</td>\n",
       "      <td>0</td>\n",
       "      <td>0.0</td>\n",
       "      <td>0.0</td>\n",
       "      <td>0.000000e+00</td>\n",
       "      <td>0.000000</td>\n",
       "      <td>0.000000</td>\n",
       "      <td>0.000000</td>\n",
       "      <td>0.000000</td>\n",
       "      <td>0.000000</td>\n",
       "    </tr>\n",
       "    <tr>\n",
       "      <th>586</th>\n",
       "      <td>False</td>\n",
       "      <td>0</td>\n",
       "      <td>0</td>\n",
       "      <td>0</td>\n",
       "      <td>0.0</td>\n",
       "      <td>0.0</td>\n",
       "      <td>0.000000e+00</td>\n",
       "      <td>0.000000</td>\n",
       "      <td>0.000000</td>\n",
       "      <td>0.000000</td>\n",
       "      <td>0.000000</td>\n",
       "      <td>0.000000</td>\n",
       "    </tr>\n",
       "    <tr>\n",
       "      <th>587</th>\n",
       "      <td>False</td>\n",
       "      <td>0</td>\n",
       "      <td>0</td>\n",
       "      <td>0</td>\n",
       "      <td>0.0</td>\n",
       "      <td>0.0</td>\n",
       "      <td>0.000000e+00</td>\n",
       "      <td>0.000000</td>\n",
       "      <td>0.000000</td>\n",
       "      <td>0.000000</td>\n",
       "      <td>0.000000</td>\n",
       "      <td>0.000000</td>\n",
       "    </tr>\n",
       "    <tr>\n",
       "      <th>588</th>\n",
       "      <td>False</td>\n",
       "      <td>0</td>\n",
       "      <td>0</td>\n",
       "      <td>0</td>\n",
       "      <td>0.0</td>\n",
       "      <td>0.0</td>\n",
       "      <td>0.000000e+00</td>\n",
       "      <td>0.000000</td>\n",
       "      <td>0.000000</td>\n",
       "      <td>0.000000</td>\n",
       "      <td>0.000000</td>\n",
       "      <td>0.000000</td>\n",
       "    </tr>\n",
       "    <tr>\n",
       "      <th>589</th>\n",
       "      <td>False</td>\n",
       "      <td>0</td>\n",
       "      <td>0</td>\n",
       "      <td>0</td>\n",
       "      <td>0.0</td>\n",
       "      <td>0.0</td>\n",
       "      <td>0.000000e+00</td>\n",
       "      <td>0.000000</td>\n",
       "      <td>0.000000</td>\n",
       "      <td>0.000000</td>\n",
       "      <td>0.000000</td>\n",
       "      <td>0.000000</td>\n",
       "    </tr>\n",
       "    <tr>\n",
       "      <th>590</th>\n",
       "      <td>False</td>\n",
       "      <td>0</td>\n",
       "      <td>0</td>\n",
       "      <td>0</td>\n",
       "      <td>0.0</td>\n",
       "      <td>0.0</td>\n",
       "      <td>0.000000e+00</td>\n",
       "      <td>0.000000</td>\n",
       "      <td>0.000000</td>\n",
       "      <td>0.000000</td>\n",
       "      <td>0.000000</td>\n",
       "      <td>0.000000</td>\n",
       "    </tr>\n",
       "    <tr>\n",
       "      <th>591</th>\n",
       "      <td>False</td>\n",
       "      <td>0</td>\n",
       "      <td>0</td>\n",
       "      <td>0</td>\n",
       "      <td>0.0</td>\n",
       "      <td>0.0</td>\n",
       "      <td>0.000000e+00</td>\n",
       "      <td>0.000000</td>\n",
       "      <td>0.000000</td>\n",
       "      <td>0.000000</td>\n",
       "      <td>0.000000</td>\n",
       "      <td>0.000000</td>\n",
       "    </tr>\n",
       "    <tr>\n",
       "      <th>592</th>\n",
       "      <td>False</td>\n",
       "      <td>0</td>\n",
       "      <td>0</td>\n",
       "      <td>0</td>\n",
       "      <td>0.0</td>\n",
       "      <td>0.0</td>\n",
       "      <td>0.000000e+00</td>\n",
       "      <td>0.000000</td>\n",
       "      <td>0.000000</td>\n",
       "      <td>0.000000</td>\n",
       "      <td>0.000000</td>\n",
       "      <td>0.000000</td>\n",
       "    </tr>\n",
       "    <tr>\n",
       "      <th>593</th>\n",
       "      <td>False</td>\n",
       "      <td>0</td>\n",
       "      <td>0</td>\n",
       "      <td>0</td>\n",
       "      <td>0.0</td>\n",
       "      <td>0.0</td>\n",
       "      <td>0.000000e+00</td>\n",
       "      <td>0.000000</td>\n",
       "      <td>0.000000</td>\n",
       "      <td>0.000000</td>\n",
       "      <td>0.000000</td>\n",
       "      <td>0.000000</td>\n",
       "    </tr>\n",
       "    <tr>\n",
       "      <th>594</th>\n",
       "      <td>False</td>\n",
       "      <td>0</td>\n",
       "      <td>0</td>\n",
       "      <td>0</td>\n",
       "      <td>0.0</td>\n",
       "      <td>0.0</td>\n",
       "      <td>0.000000e+00</td>\n",
       "      <td>0.000000</td>\n",
       "      <td>0.000000</td>\n",
       "      <td>0.000000</td>\n",
       "      <td>0.000000</td>\n",
       "      <td>0.000000</td>\n",
       "    </tr>\n",
       "    <tr>\n",
       "      <th>595</th>\n",
       "      <td>False</td>\n",
       "      <td>0</td>\n",
       "      <td>0</td>\n",
       "      <td>0</td>\n",
       "      <td>0.0</td>\n",
       "      <td>0.0</td>\n",
       "      <td>0.000000e+00</td>\n",
       "      <td>0.000000</td>\n",
       "      <td>0.000000</td>\n",
       "      <td>0.000000</td>\n",
       "      <td>0.000000</td>\n",
       "      <td>0.000000</td>\n",
       "    </tr>\n",
       "    <tr>\n",
       "      <th>596</th>\n",
       "      <td>False</td>\n",
       "      <td>0</td>\n",
       "      <td>0</td>\n",
       "      <td>0</td>\n",
       "      <td>0.0</td>\n",
       "      <td>0.0</td>\n",
       "      <td>0.000000e+00</td>\n",
       "      <td>0.000000</td>\n",
       "      <td>0.000000</td>\n",
       "      <td>0.000000</td>\n",
       "      <td>0.000000</td>\n",
       "      <td>0.000000</td>\n",
       "    </tr>\n",
       "    <tr>\n",
       "      <th>597</th>\n",
       "      <td>False</td>\n",
       "      <td>0</td>\n",
       "      <td>0</td>\n",
       "      <td>0</td>\n",
       "      <td>0.0</td>\n",
       "      <td>0.0</td>\n",
       "      <td>0.000000e+00</td>\n",
       "      <td>0.000000</td>\n",
       "      <td>0.000000</td>\n",
       "      <td>0.000000</td>\n",
       "      <td>0.000000</td>\n",
       "      <td>0.000000</td>\n",
       "    </tr>\n",
       "    <tr>\n",
       "      <th>598</th>\n",
       "      <td>False</td>\n",
       "      <td>0</td>\n",
       "      <td>0</td>\n",
       "      <td>0</td>\n",
       "      <td>0.0</td>\n",
       "      <td>0.0</td>\n",
       "      <td>0.000000e+00</td>\n",
       "      <td>0.000000</td>\n",
       "      <td>0.000000</td>\n",
       "      <td>0.000000</td>\n",
       "      <td>0.000000</td>\n",
       "      <td>0.000000</td>\n",
       "    </tr>\n",
       "    <tr>\n",
       "      <th>599</th>\n",
       "      <td>False</td>\n",
       "      <td>0</td>\n",
       "      <td>0</td>\n",
       "      <td>0</td>\n",
       "      <td>0.0</td>\n",
       "      <td>0.0</td>\n",
       "      <td>0.000000e+00</td>\n",
       "      <td>0.000000</td>\n",
       "      <td>0.000000</td>\n",
       "      <td>0.000000</td>\n",
       "      <td>0.000000</td>\n",
       "      <td>0.000000</td>\n",
       "    </tr>\n",
       "    <tr>\n",
       "      <th>600</th>\n",
       "      <td>False</td>\n",
       "      <td>0</td>\n",
       "      <td>0</td>\n",
       "      <td>0</td>\n",
       "      <td>0.0</td>\n",
       "      <td>0.0</td>\n",
       "      <td>0.000000e+00</td>\n",
       "      <td>0.000000</td>\n",
       "      <td>0.000000</td>\n",
       "      <td>0.000000</td>\n",
       "      <td>0.000000</td>\n",
       "      <td>0.000000</td>\n",
       "    </tr>\n",
       "    <tr>\n",
       "      <th>601</th>\n",
       "      <td>False</td>\n",
       "      <td>0</td>\n",
       "      <td>0</td>\n",
       "      <td>0</td>\n",
       "      <td>0.0</td>\n",
       "      <td>0.0</td>\n",
       "      <td>0.000000e+00</td>\n",
       "      <td>0.000000</td>\n",
       "      <td>0.000000</td>\n",
       "      <td>0.000000</td>\n",
       "      <td>0.000000</td>\n",
       "      <td>0.000000</td>\n",
       "    </tr>\n",
       "    <tr>\n",
       "      <th>602</th>\n",
       "      <td>False</td>\n",
       "      <td>0</td>\n",
       "      <td>0</td>\n",
       "      <td>0</td>\n",
       "      <td>0.0</td>\n",
       "      <td>0.0</td>\n",
       "      <td>0.000000e+00</td>\n",
       "      <td>0.000000</td>\n",
       "      <td>0.000000</td>\n",
       "      <td>0.000000</td>\n",
       "      <td>0.000000</td>\n",
       "      <td>0.000000</td>\n",
       "    </tr>\n",
       "    <tr>\n",
       "      <th>603</th>\n",
       "      <td>False</td>\n",
       "      <td>0</td>\n",
       "      <td>0</td>\n",
       "      <td>0</td>\n",
       "      <td>0.0</td>\n",
       "      <td>0.0</td>\n",
       "      <td>0.000000e+00</td>\n",
       "      <td>0.000000</td>\n",
       "      <td>0.000000</td>\n",
       "      <td>0.000000</td>\n",
       "      <td>0.000000</td>\n",
       "      <td>0.000000</td>\n",
       "    </tr>\n",
       "    <tr>\n",
       "      <th>604</th>\n",
       "      <td>False</td>\n",
       "      <td>0</td>\n",
       "      <td>0</td>\n",
       "      <td>0</td>\n",
       "      <td>0.0</td>\n",
       "      <td>0.0</td>\n",
       "      <td>0.000000e+00</td>\n",
       "      <td>0.000000</td>\n",
       "      <td>0.000000</td>\n",
       "      <td>0.000000</td>\n",
       "      <td>0.000000</td>\n",
       "      <td>0.000000</td>\n",
       "    </tr>\n",
       "    <tr>\n",
       "      <th>605</th>\n",
       "      <td>False</td>\n",
       "      <td>0</td>\n",
       "      <td>0</td>\n",
       "      <td>0</td>\n",
       "      <td>0.0</td>\n",
       "      <td>0.0</td>\n",
       "      <td>0.000000e+00</td>\n",
       "      <td>0.000000</td>\n",
       "      <td>0.000000</td>\n",
       "      <td>0.000000</td>\n",
       "      <td>0.000000</td>\n",
       "      <td>0.000000</td>\n",
       "    </tr>\n",
       "    <tr>\n",
       "      <th>606</th>\n",
       "      <td>False</td>\n",
       "      <td>0</td>\n",
       "      <td>0</td>\n",
       "      <td>0</td>\n",
       "      <td>0.0</td>\n",
       "      <td>0.0</td>\n",
       "      <td>0.000000e+00</td>\n",
       "      <td>0.000000</td>\n",
       "      <td>0.000000</td>\n",
       "      <td>0.000000</td>\n",
       "      <td>0.000000</td>\n",
       "      <td>0.000000</td>\n",
       "    </tr>\n",
       "    <tr>\n",
       "      <th>607</th>\n",
       "      <td>False</td>\n",
       "      <td>0</td>\n",
       "      <td>0</td>\n",
       "      <td>0</td>\n",
       "      <td>0.0</td>\n",
       "      <td>0.0</td>\n",
       "      <td>0.000000e+00</td>\n",
       "      <td>0.000000</td>\n",
       "      <td>0.000000</td>\n",
       "      <td>0.000000</td>\n",
       "      <td>0.000000</td>\n",
       "      <td>0.000000</td>\n",
       "    </tr>\n",
       "    <tr>\n",
       "      <th>608</th>\n",
       "      <td>False</td>\n",
       "      <td>0</td>\n",
       "      <td>0</td>\n",
       "      <td>0</td>\n",
       "      <td>0.0</td>\n",
       "      <td>0.0</td>\n",
       "      <td>0.000000e+00</td>\n",
       "      <td>0.000000</td>\n",
       "      <td>0.000000</td>\n",
       "      <td>0.000000</td>\n",
       "      <td>0.000000</td>\n",
       "      <td>0.000000</td>\n",
       "    </tr>\n",
       "    <tr>\n",
       "      <th>609</th>\n",
       "      <td>False</td>\n",
       "      <td>0</td>\n",
       "      <td>0</td>\n",
       "      <td>0</td>\n",
       "      <td>0.0</td>\n",
       "      <td>0.0</td>\n",
       "      <td>0.000000e+00</td>\n",
       "      <td>0.000000</td>\n",
       "      <td>0.000000</td>\n",
       "      <td>0.000000</td>\n",
       "      <td>0.000000</td>\n",
       "      <td>0.000000</td>\n",
       "    </tr>\n",
       "    <tr>\n",
       "      <th>610</th>\n",
       "      <td>False</td>\n",
       "      <td>0</td>\n",
       "      <td>0</td>\n",
       "      <td>0</td>\n",
       "      <td>0.0</td>\n",
       "      <td>0.0</td>\n",
       "      <td>0.000000e+00</td>\n",
       "      <td>0.000000</td>\n",
       "      <td>0.000000</td>\n",
       "      <td>0.000000</td>\n",
       "      <td>0.000000</td>\n",
       "      <td>0.000000</td>\n",
       "    </tr>\n",
       "    <tr>\n",
       "      <th>611</th>\n",
       "      <td>False</td>\n",
       "      <td>0</td>\n",
       "      <td>0</td>\n",
       "      <td>0</td>\n",
       "      <td>0.0</td>\n",
       "      <td>0.0</td>\n",
       "      <td>0.000000e+00</td>\n",
       "      <td>0.000000</td>\n",
       "      <td>0.000000</td>\n",
       "      <td>0.000000</td>\n",
       "      <td>0.000000</td>\n",
       "      <td>0.000000</td>\n",
       "    </tr>\n",
       "  </tbody>\n",
       "</table>\n",
       "<p>612 rows × 12 columns</p>\n",
       "</div>"
      ],
      "text/plain": [
       "     Scaled    N  Dimensions  K  Mean  Variance  abs_deviation_data  \\\n",
       "0      True  100         100  3   0.0       1.0            0.000021   \n",
       "1     False  100         100  3   0.0       1.0            0.000039   \n",
       "2      True  200         100  3   0.0       1.0            0.000072   \n",
       "3     False  200         100  3   0.0       1.0            0.000009   \n",
       "4      True  500         100  3   0.0       1.0            0.000110   \n",
       "..      ...  ...         ... ..   ...       ...                 ...   \n",
       "607   False    0           0  0   0.0       0.0            0.000000   \n",
       "608   False    0           0  0   0.0       0.0            0.000000   \n",
       "609   False    0           0  0   0.0       0.0            0.000000   \n",
       "610   False    0           0  0   0.0       0.0            0.000000   \n",
       "611   False    0           0  0   0.0       0.0            0.000000   \n",
       "\n",
       "     abs_deviation_eigv  rel_deviation_data  rel_deviation_eigv   time_16  \\\n",
       "0              0.000015            0.000547            0.015347  0.003768   \n",
       "1              0.000002            0.000699            0.007553  0.003940   \n",
       "2              0.000040            0.074825            0.002692  0.003808   \n",
       "3              0.016511            1.383038            1.332179  0.003750   \n",
       "4              0.003833            1.346836            1.353642  0.003776   \n",
       "..                  ...                 ...                 ...       ...   \n",
       "607            0.000000            0.000000            0.000000  0.000000   \n",
       "608            0.000000            0.000000            0.000000  0.000000   \n",
       "609            0.000000            0.000000            0.000000  0.000000   \n",
       "610            0.000000            0.000000            0.000000  0.000000   \n",
       "611            0.000000            0.000000            0.000000  0.000000   \n",
       "\n",
       "      time_32  \n",
       "0    0.003700  \n",
       "1    0.004084  \n",
       "2    0.003843  \n",
       "3    0.003757  \n",
       "4    0.003791  \n",
       "..        ...  \n",
       "607  0.000000  \n",
       "608  0.000000  \n",
       "609  0.000000  \n",
       "610  0.000000  \n",
       "611  0.000000  \n",
       "\n",
       "[612 rows x 12 columns]"
      ]
     },
     "execution_count": 26,
     "metadata": {},
     "output_type": "execute_result"
    }
   ],
   "source": [
    "df"
   ]
  },
  {
   "cell_type": "code",
   "execution_count": 121,
   "metadata": {},
   "outputs": [],
   "source": [
    "df.to_csv(\"results.csv\")"
   ]
  },
  {
   "cell_type": "code",
   "execution_count": 30,
   "metadata": {
    "collapsed": true
   },
   "outputs": [
    {
     "name": "stderr",
     "output_type": "stream",
     "text": [
      "  0%|          | 0/34 [00:00<?, ?it/s]\n",
      "  0%|          | 0/16 [00:00<?, ?it/s]\u001b[A\n",
      "  6%|▋         | 1/16 [00:00<00:02,  6.01it/s]\u001b[A"
     ]
    },
    {
     "name": "stdout",
     "output_type": "stream",
     "text": [
      "5440\n",
      "Number of columns: 10\n"
     ]
    },
    {
     "name": "stderr",
     "output_type": "stream",
     "text": [
      "\n",
      " 12%|█▎        | 2/16 [00:00<00:02,  6.01it/s]\u001b[A\n",
      " 19%|█▉        | 3/16 [00:00<00:02,  6.03it/s]\u001b[A\n",
      " 25%|██▌       | 4/16 [00:00<00:01,  6.39it/s]\u001b[A\n",
      " 31%|███▏      | 5/16 [00:00<00:01,  6.97it/s]\u001b[A\n",
      " 38%|███▊      | 6/16 [00:00<00:01,  7.42it/s]\u001b[A\n",
      " 44%|████▍     | 7/16 [00:00<00:01,  7.74it/s]\u001b[A\n",
      " 50%|█████     | 8/16 [00:01<00:01,  7.91it/s]\u001b[A\n",
      " 56%|█████▋    | 9/16 [00:01<00:00,  7.71it/s]\u001b[A\n",
      " 62%|██████▎   | 10/16 [00:01<00:00,  7.46it/s]\u001b[A\n",
      " 69%|██████▉   | 11/16 [00:01<00:00,  6.85it/s]\u001b[A\n",
      " 75%|███████▌  | 12/16 [00:01<00:00,  5.48it/s]\u001b[A\n",
      " 81%|████████▏ | 13/16 [00:02<00:00,  4.66it/s]\u001b[A\n",
      " 88%|████████▊ | 14/16 [00:02<00:00,  3.07it/s]\u001b[A\n",
      " 94%|█████████▍| 15/16 [00:03<00:00,  1.85it/s]\u001b[A\n",
      "100%|██████████| 16/16 [00:05<00:00,  2.76it/s]\u001b[A\n",
      "  3%|▎         | 1/34 [00:05<03:11,  5.80s/it]\n",
      "  0%|          | 0/16 [00:00<?, ?it/s]\u001b[A\n",
      "  6%|▋         | 1/16 [00:00<00:01,  9.19it/s]\u001b[A\n",
      " 12%|█▎        | 2/16 [00:00<00:01,  9.12it/s]\u001b[A\n",
      " 19%|█▉        | 3/16 [00:00<00:01,  9.06it/s]\u001b[A\n",
      " 25%|██▌       | 4/16 [00:00<00:01,  9.01it/s]\u001b[A\n",
      " 31%|███▏      | 5/16 [00:00<00:01,  8.96it/s]\u001b[A\n",
      " 38%|███▊      | 6/16 [00:00<00:01,  8.91it/s]\u001b[A\n",
      " 44%|████▍     | 7/16 [00:00<00:01,  8.83it/s]\u001b[A\n",
      " 50%|█████     | 8/16 [00:00<00:00,  8.69it/s]\u001b[A\n",
      " 56%|█████▋    | 9/16 [00:01<00:00,  8.21it/s]\u001b[A\n",
      " 62%|██████▎   | 10/16 [00:01<00:00,  7.78it/s]\u001b[A\n",
      " 69%|██████▉   | 11/16 [00:01<00:00,  7.04it/s]\u001b[A\n",
      " 75%|███████▌  | 12/16 [00:01<00:00,  5.63it/s]\u001b[A\n",
      " 81%|████████▏ | 13/16 [00:01<00:00,  4.73it/s]\u001b[A\n",
      " 88%|████████▊ | 14/16 [00:02<00:00,  3.10it/s]\u001b[A\n",
      " 94%|█████████▍| 15/16 [00:03<00:00,  1.86it/s]\u001b[A\n",
      "100%|██████████| 16/16 [00:05<00:00,  2.86it/s]\u001b[A\n",
      "  6%|▌         | 2/34 [00:11<03:03,  5.74s/it]\n",
      "  0%|          | 0/16 [00:00<?, ?it/s]\u001b[A\n",
      "  6%|▋         | 1/16 [00:00<00:01,  9.19it/s]\u001b[A\n",
      " 12%|█▎        | 2/16 [00:00<00:01,  9.12it/s]\u001b[A\n",
      " 19%|█▉        | 3/16 [00:00<00:01,  9.08it/s]\u001b[A\n",
      " 25%|██▌       | 4/16 [00:00<00:01,  9.04it/s]\u001b[A\n",
      " 31%|███▏      | 5/16 [00:00<00:01,  8.99it/s]\u001b[A\n",
      " 38%|███▊      | 6/16 [00:00<00:01,  8.93it/s]\u001b[A\n",
      " 44%|████▍     | 7/16 [00:00<00:01,  8.85it/s]\u001b[A\n",
      " 50%|█████     | 8/16 [00:00<00:00,  8.70it/s]\u001b[A\n",
      " 56%|█████▋    | 9/16 [00:01<00:00,  8.21it/s]\u001b[A\n",
      " 62%|██████▎   | 10/16 [00:01<00:00,  7.78it/s]\u001b[A\n",
      " 69%|██████▉   | 11/16 [00:01<00:00,  7.05it/s]\u001b[A\n",
      " 75%|███████▌  | 12/16 [00:01<00:00,  5.63it/s]\u001b[A\n",
      " 81%|████████▏ | 13/16 [00:01<00:00,  4.73it/s]\u001b[A\n",
      " 88%|████████▊ | 14/16 [00:02<00:00,  3.10it/s]\u001b[A\n",
      " 94%|█████████▍| 15/16 [00:03<00:00,  1.86it/s]\u001b[A\n",
      "100%|██████████| 16/16 [00:05<00:00,  2.86it/s]\u001b[A\n",
      "  9%|▉         | 3/34 [00:16<02:56,  5.70s/it]\n",
      "  0%|          | 0/16 [00:00<?, ?it/s]\u001b[A\n",
      "  6%|▋         | 1/16 [00:00<00:01,  9.19it/s]\u001b[A\n",
      " 12%|█▎        | 2/16 [00:00<00:01,  9.11it/s]\u001b[A\n",
      " 19%|█▉        | 3/16 [00:00<00:01,  9.07it/s]\u001b[A\n",
      " 25%|██▌       | 4/16 [00:00<00:01,  9.04it/s]\u001b[A\n",
      " 31%|███▏      | 5/16 [00:00<00:01,  8.99it/s]\u001b[A\n",
      " 38%|███▊      | 6/16 [00:00<00:01,  8.92it/s]\u001b[A\n",
      " 44%|████▍     | 7/16 [00:00<00:01,  8.82it/s]\u001b[A\n",
      " 56%|█████▋    | 9/16 [00:00<00:00,  9.43it/s]\u001b[A\n",
      " 69%|██████▉   | 11/16 [00:01<00:00,  9.37it/s]\u001b[A\n",
      " 75%|███████▌  | 12/16 [00:01<00:00,  7.11it/s]\u001b[A\n",
      " 81%|████████▏ | 13/16 [00:01<00:00,  5.55it/s]\u001b[A\n",
      " 88%|████████▊ | 14/16 [00:02<00:00,  3.40it/s]\u001b[A\n",
      " 94%|█████████▍| 15/16 [00:03<00:00,  1.94it/s]\u001b[A\n",
      "100%|██████████| 16/16 [00:05<00:00,  3.01it/s]\u001b[A\n",
      " 12%|█▏        | 4/34 [00:22<02:47,  5.59s/it]\n",
      "  0%|          | 0/16 [00:00<?, ?it/s]\u001b[A\n",
      " 12%|█▎        | 2/16 [00:00<00:00, 14.88it/s]\u001b[A\n",
      " 25%|██▌       | 4/16 [00:00<00:00, 14.75it/s]\u001b[A\n",
      " 38%|███▊      | 6/16 [00:00<00:00, 16.00it/s]\u001b[A\n",
      " 50%|█████     | 8/16 [00:00<00:00, 16.29it/s]\u001b[A\n",
      " 62%|██████▎   | 10/16 [00:00<00:00, 14.27it/s]\u001b[A\n",
      " 75%|███████▌  | 12/16 [00:01<00:00,  9.99it/s]\u001b[A\n",
      " 88%|████████▊ | 14/16 [00:01<00:00,  5.12it/s]\u001b[A\n",
      " 94%|█████████▍| 15/16 [00:02<00:00,  2.24it/s]\u001b[A\n",
      "100%|██████████| 16/16 [00:04<00:00,  3.24it/s]\u001b[A\n",
      " 15%|█▍        | 5/34 [00:27<02:36,  5.39s/it]\n",
      "  0%|          | 0/16 [00:00<?, ?it/s]\u001b[A\n",
      " 12%|█▎        | 2/16 [00:00<00:00, 14.75it/s]\u001b[A\n",
      " 25%|██▌       | 4/16 [00:00<00:00, 14.63it/s]\u001b[A\n",
      " 38%|███▊      | 6/16 [00:00<00:00, 15.87it/s]\u001b[A\n",
      " 50%|█████     | 8/16 [00:00<00:00, 16.17it/s]\u001b[A\n",
      " 62%|██████▎   | 10/16 [00:00<00:00, 14.19it/s]\u001b[A\n",
      " 75%|███████▌  | 12/16 [00:01<00:00,  9.95it/s]\u001b[A\n",
      " 88%|████████▊ | 14/16 [00:01<00:00,  5.12it/s]\u001b[A\n",
      " 94%|█████████▍| 15/16 [00:02<00:00,  2.24it/s]\u001b[A\n",
      "100%|██████████| 16/16 [00:04<00:00,  3.24it/s]\u001b[A\n",
      " 18%|█▊        | 6/34 [00:32<02:27,  5.26s/it]\n",
      "  0%|          | 0/16 [00:00<?, ?it/s]\u001b[A\n",
      " 12%|█▎        | 2/16 [00:00<00:00, 14.75it/s]\u001b[A\n",
      " 25%|██▌       | 4/16 [00:00<00:00, 14.61it/s]\u001b[A\n",
      " 38%|███▊      | 6/16 [00:00<00:00, 15.84it/s]\u001b[A\n",
      " 50%|█████     | 8/16 [00:00<00:00, 16.15it/s]\u001b[A\n",
      " 62%|██████▎   | 10/16 [00:00<00:00, 14.14it/s]\u001b[A\n",
      " 75%|███████▌  | 12/16 [00:01<00:00,  9.91it/s]\u001b[A\n",
      " 88%|████████▊ | 14/16 [00:01<00:00,  5.11it/s]\u001b[A\n",
      " 94%|█████████▍| 15/16 [00:02<00:00,  2.23it/s]\u001b[A\n",
      "100%|██████████| 16/16 [00:04<00:00,  3.23it/s]\u001b[A\n",
      " 21%|██        | 7/34 [00:37<02:19,  5.17s/it]\n",
      "  0%|          | 0/16 [00:00<?, ?it/s]\u001b[A\n",
      " 12%|█▎        | 2/16 [00:00<00:00, 14.60it/s]\u001b[A\n",
      " 25%|██▌       | 4/16 [00:00<00:00, 14.50it/s]\u001b[A\n",
      " 38%|███▊      | 6/16 [00:00<00:00, 15.73it/s]\u001b[A\n",
      " 50%|█████     | 8/16 [00:00<00:00, 16.07it/s]\u001b[A\n",
      " 62%|██████▎   | 10/16 [00:00<00:00, 14.10it/s]\u001b[A\n",
      " 75%|███████▌  | 12/16 [00:01<00:00,  9.91it/s]\u001b[A\n",
      " 88%|████████▊ | 14/16 [00:01<00:00,  5.10it/s]\u001b[A\n",
      " 94%|█████████▍| 15/16 [00:02<00:00,  2.23it/s]\u001b[A\n",
      "100%|██████████| 16/16 [00:04<00:00,  3.23it/s]\u001b[A\n",
      " 24%|██▎       | 8/34 [00:42<02:12,  5.10s/it]\n",
      "  0%|          | 0/16 [00:00<?, ?it/s]\u001b[A\n",
      " 12%|█▎        | 2/16 [00:00<00:00, 14.24it/s]\u001b[A\n",
      " 25%|██▌       | 4/16 [00:00<00:00, 14.13it/s]\u001b[A\n",
      " 38%|███▊      | 6/16 [00:00<00:00, 15.41it/s]\u001b[A\n",
      " 50%|█████     | 8/16 [00:00<00:00, 15.79it/s]\u001b[A\n",
      " 62%|██████▎   | 10/16 [00:00<00:00, 13.54it/s]\u001b[A\n",
      " 75%|███████▌  | 12/16 [00:01<00:00,  7.24it/s]\u001b[A\n",
      " 81%|████████▏ | 13/16 [00:02<00:00,  3.06it/s]\u001b[A\n",
      " 88%|████████▊ | 14/16 [00:03<00:01,  1.42it/s]\u001b[A\n",
      " 94%|█████████▍| 15/16 [00:07<00:01,  1.61s/it]\u001b[A\n",
      "100%|██████████| 16/16 [00:14<00:00,  1.09it/s]\u001b[A\n",
      " 26%|██▋       | 9/34 [00:56<03:19,  8.00s/it]\n",
      "  0%|          | 0/16 [00:00<?, ?it/s]\u001b[A\n",
      " 19%|█▉        | 3/16 [00:00<00:00, 21.27it/s]\u001b[A\n",
      " 31%|███▏      | 5/16 [00:00<00:00, 20.86it/s]\u001b[A\n",
      " 44%|████▍     | 7/16 [00:00<00:00, 20.03it/s]\u001b[A\n",
      " 56%|█████▋    | 9/16 [00:00<00:00, 17.45it/s]\u001b[A\n",
      " 69%|██████▉   | 11/16 [00:00<00:00, 11.95it/s]\u001b[A\n",
      " 81%|████████▏ | 13/16 [00:01<00:00,  4.29it/s]\u001b[A\n",
      " 88%|████████▊ | 14/16 [00:03<00:01,  1.57it/s]\u001b[A\n",
      " 94%|█████████▍| 15/16 [00:07<00:01,  1.56s/it]\u001b[A\n",
      "100%|██████████| 16/16 [00:14<00:00,  1.09it/s]\u001b[A\n",
      " 29%|██▉       | 10/34 [01:11<03:59, 10.00s/it]\n",
      "  0%|          | 0/16 [00:00<?, ?it/s]\u001b[A\n",
      " 12%|█▎        | 2/16 [00:00<00:00, 14.16it/s]\u001b[A\n",
      " 25%|██▌       | 4/16 [00:00<00:00, 14.04it/s]\u001b[A\n",
      " 38%|███▊      | 6/16 [00:00<00:00, 13.88it/s]\u001b[A\n",
      " 50%|█████     | 8/16 [00:00<00:00, 13.50it/s]\u001b[A\n",
      " 62%|██████▎   | 10/16 [00:00<00:00, 12.56it/s]\u001b[A\n",
      " 75%|███████▌  | 12/16 [00:01<00:00,  9.31it/s]\u001b[A\n",
      " 81%|████████▏ | 13/16 [00:01<00:00,  6.36it/s]\u001b[A\n",
      " 88%|████████▊ | 14/16 [00:01<00:00,  3.56it/s]\u001b[A\n",
      " 94%|█████████▍| 15/16 [00:03<00:00,  1.97it/s]\u001b[A\n",
      "100%|██████████| 16/16 [00:05<00:00,  3.17it/s]\u001b[A\n",
      " 32%|███▏      | 11/34 [01:16<03:15,  8.52s/it]\n",
      "  0%|          | 0/16 [00:00<?, ?it/s]\u001b[A\n",
      " 12%|█▎        | 2/16 [00:00<00:00, 14.16it/s]\u001b[A\n",
      " 25%|██▌       | 4/16 [00:00<00:00, 14.04it/s]\u001b[A\n",
      " 38%|███▊      | 6/16 [00:00<00:00, 13.89it/s]\u001b[A\n",
      " 50%|█████     | 8/16 [00:00<00:00, 13.52it/s]\u001b[A\n",
      " 62%|██████▎   | 10/16 [00:00<00:00, 12.57it/s]\u001b[A\n",
      " 75%|███████▌  | 12/16 [00:01<00:00,  9.32it/s]\u001b[A\n",
      " 81%|████████▏ | 13/16 [00:01<00:00,  6.37it/s]\u001b[A\n",
      " 88%|████████▊ | 14/16 [00:01<00:00,  3.59it/s]\u001b[A\n",
      " 94%|█████████▍| 15/16 [00:02<00:00,  1.98it/s]\u001b[A\n",
      "100%|██████████| 16/16 [00:05<00:00,  3.17it/s]\u001b[A\n",
      " 35%|███▌      | 12/34 [01:21<02:44,  7.48s/it]\n",
      "  0%|          | 0/16 [00:00<?, ?it/s]\u001b[A\n",
      " 12%|█▎        | 2/16 [00:00<00:01, 13.95it/s]\u001b[A\n",
      " 25%|██▌       | 4/16 [00:00<00:00, 13.89it/s]\u001b[A\n",
      " 38%|███▊      | 6/16 [00:00<00:00, 13.79it/s]\u001b[A\n",
      " 50%|█████     | 8/16 [00:00<00:00, 13.46it/s]\u001b[A\n",
      " 62%|██████▎   | 10/16 [00:00<00:00, 12.53it/s]\u001b[A\n"
     ]
    },
    {
     "name": "stderr",
     "output_type": "stream",
     "text": [
      " 75%|███████▌  | 12/16 [00:01<00:00,  9.31it/s]\u001b[A\n",
      " 81%|████████▏ | 13/16 [00:01<00:00,  6.36it/s]\u001b[A\n",
      " 88%|████████▊ | 14/16 [00:01<00:00,  3.56it/s]\u001b[A\n",
      " 94%|█████████▍| 15/16 [00:03<00:00,  1.97it/s]\u001b[A\n",
      "100%|██████████| 16/16 [00:05<00:00,  3.16it/s]\u001b[A\n",
      " 38%|███▊      | 13/34 [01:26<02:21,  6.75s/it]\n",
      "  0%|          | 0/16 [00:00<?, ?it/s]\u001b[A\n",
      " 12%|█▎        | 2/16 [00:00<00:00, 14.16it/s]\u001b[A\n",
      " 25%|██▌       | 4/16 [00:00<00:00, 14.04it/s]\u001b[A\n",
      " 38%|███▊      | 6/16 [00:00<00:00, 13.89it/s]\u001b[A\n",
      " 50%|█████     | 8/16 [00:00<00:00, 13.53it/s]\u001b[A\n",
      " 62%|██████▎   | 10/16 [00:00<00:00, 12.57it/s]\u001b[A\n",
      " 75%|███████▌  | 12/16 [00:01<00:00,  9.32it/s]\u001b[A\n",
      " 81%|████████▏ | 13/16 [00:01<00:00,  6.28it/s]\u001b[A\n",
      " 88%|████████▊ | 14/16 [00:01<00:00,  3.57it/s]\u001b[A\n",
      " 94%|█████████▍| 15/16 [00:03<00:00,  1.97it/s]\u001b[A\n",
      "100%|██████████| 16/16 [00:05<00:00,  3.16it/s]\u001b[A\n",
      " 41%|████      | 14/34 [01:31<02:04,  6.25s/it]\n",
      "  0%|          | 0/16 [00:00<?, ?it/s]\u001b[A\n",
      " 12%|█▎        | 2/16 [00:00<00:00, 14.13it/s]\u001b[A\n",
      " 25%|██▌       | 4/16 [00:00<00:00, 14.02it/s]\u001b[A\n",
      " 38%|███▊      | 6/16 [00:00<00:00, 13.87it/s]\u001b[A\n",
      " 50%|█████     | 8/16 [00:00<00:00, 13.51it/s]\u001b[A\n",
      " 62%|██████▎   | 10/16 [00:00<00:00, 12.57it/s]\u001b[A\n",
      " 75%|███████▌  | 12/16 [00:01<00:00,  9.32it/s]\u001b[A\n",
      " 81%|████████▏ | 13/16 [00:01<00:00,  6.29it/s]\u001b[A\n",
      " 88%|████████▊ | 14/16 [00:01<00:00,  3.57it/s]\u001b[A\n",
      " 94%|█████████▍| 15/16 [00:03<00:00,  1.97it/s]\u001b[A\n",
      "100%|██████████| 16/16 [00:05<00:00,  3.17it/s]\u001b[A\n",
      " 44%|████▍     | 15/34 [01:36<01:51,  5.89s/it]\n",
      "  0%|          | 0/16 [00:00<?, ?it/s]\u001b[A\n",
      " 12%|█▎        | 2/16 [00:00<00:00, 14.15it/s]\u001b[A\n",
      " 25%|██▌       | 4/16 [00:00<00:00, 14.03it/s]\u001b[A\n",
      " 38%|███▊      | 6/16 [00:00<00:00, 13.89it/s]\u001b[A\n",
      " 50%|█████     | 8/16 [00:00<00:00, 13.53it/s]\u001b[A\n",
      " 62%|██████▎   | 10/16 [00:00<00:00, 12.57it/s]\u001b[A\n",
      " 75%|███████▌  | 12/16 [00:01<00:00,  9.32it/s]\u001b[A\n",
      " 81%|████████▏ | 13/16 [00:01<00:00,  6.37it/s]\u001b[A\n",
      " 88%|████████▊ | 14/16 [00:01<00:00,  3.59it/s]\u001b[A\n",
      " 94%|█████████▍| 15/16 [00:02<00:00,  1.98it/s]"
     ]
    },
    {
     "ename": "KeyboardInterrupt",
     "evalue": "",
     "output_type": "error",
     "traceback": [
      "\u001b[0;31m---------------------------------------------------------------------------\u001b[0m",
      "\u001b[0;31mKeyboardInterrupt\u001b[0m                         Traceback (most recent call last)",
      "\u001b[0;32m~/personal/computational-linear-algebra/SOP/run_exp.py\u001b[0m in \u001b[0;36m<module>\u001b[0;34m\u001b[0m\n\u001b[1;32m    120\u001b[0m         \u001b[0;32mif\u001b[0m \u001b[0mdebug\u001b[0m \u001b[0;32mand\u001b[0m \u001b[0mi\u001b[0m \u001b[0;34m==\u001b[0m \u001b[0;36m2\u001b[0m\u001b[0;34m:\u001b[0m \u001b[0;32mbreak\u001b[0m\u001b[0;34m\u001b[0m\u001b[0;34m\u001b[0m\u001b[0m\n\u001b[1;32m    121\u001b[0m         \u001b[0msampler\u001b[0m \u001b[0;34m=\u001b[0m \u001b[0mget_gaussian_sampler\u001b[0m\u001b[0;34m(\u001b[0m\u001b[0mdimension\u001b[0m\u001b[0;34m,\u001b[0m \u001b[0mmean\u001b[0m\u001b[0;34m,\u001b[0m \u001b[0mvar\u001b[0m\u001b[0;34m)\u001b[0m\u001b[0;34m\u001b[0m\u001b[0;34m\u001b[0m\u001b[0m\n\u001b[0;32m--> 122\u001b[0;31m         \u001b[0;32mfor\u001b[0m \u001b[0mn\u001b[0m \u001b[0;32min\u001b[0m \u001b[0mtqdm\u001b[0m\u001b[0;34m(\u001b[0m\u001b[0mn_values\u001b[0m\u001b[0;34m)\u001b[0m\u001b[0;34m:\u001b[0m\u001b[0;34m\u001b[0m\u001b[0;34m\u001b[0m\u001b[0m\n\u001b[0m\u001b[1;32m    123\u001b[0m             \u001b[0;32mif\u001b[0m \u001b[0mdimension\u001b[0m \u001b[0;34m==\u001b[0m \u001b[0;36m400\u001b[0m \u001b[0;32mand\u001b[0m \u001b[0mn\u001b[0m \u001b[0;34m==\u001b[0m \u001b[0;36m10000000\u001b[0m\u001b[0;34m:\u001b[0m \u001b[0;32mcontinue\u001b[0m\u001b[0;34m\u001b[0m\u001b[0;34m\u001b[0m\u001b[0m\n\u001b[1;32m    124\u001b[0m             \u001b[0mstill_doing\u001b[0m \u001b[0;34m=\u001b[0m \u001b[0mmax_retries\u001b[0m\u001b[0;34m\u001b[0m\u001b[0;34m\u001b[0m\u001b[0m\n",
      "\u001b[0;32m/net/coxfs01/srv/export/coxfs01/pfister_lab2/share_root/Lab/akash/envs/nbase/lib/python3.6/site-packages/tqdm/std.py\u001b[0m in \u001b[0;36m__iter__\u001b[0;34m(self)\u001b[0m\n\u001b[1;32m   1124\u001b[0m \u001b[0;34m\u001b[0m\u001b[0m\n\u001b[1;32m   1125\u001b[0m                     \u001b[0mself\u001b[0m\u001b[0;34m.\u001b[0m\u001b[0mn\u001b[0m \u001b[0;34m=\u001b[0m \u001b[0mn\u001b[0m\u001b[0;34m\u001b[0m\u001b[0;34m\u001b[0m\u001b[0m\n\u001b[0;32m-> 1126\u001b[0;31m                     \u001b[0mself\u001b[0m\u001b[0;34m.\u001b[0m\u001b[0mrefresh\u001b[0m\u001b[0;34m(\u001b[0m\u001b[0mlock_args\u001b[0m\u001b[0;34m=\u001b[0m\u001b[0mself\u001b[0m\u001b[0;34m.\u001b[0m\u001b[0mlock_args\u001b[0m\u001b[0;34m)\u001b[0m\u001b[0;34m\u001b[0m\u001b[0;34m\u001b[0m\u001b[0m\n\u001b[0m\u001b[1;32m   1127\u001b[0m \u001b[0;34m\u001b[0m\u001b[0m\n\u001b[1;32m   1128\u001b[0m                     \u001b[0;31m# If no `miniters` was specified, adjust automatically\u001b[0m\u001b[0;34m\u001b[0m\u001b[0;34m\u001b[0m\u001b[0;34m\u001b[0m\u001b[0m\n",
      "\u001b[0;32m/net/coxfs01/srv/export/coxfs01/pfister_lab2/share_root/Lab/akash/envs/nbase/lib/python3.6/site-packages/tqdm/std.py\u001b[0m in \u001b[0;36mrefresh\u001b[0;34m(self, nolock, lock_args)\u001b[0m\n\u001b[1;32m   1312\u001b[0m             \u001b[0;32melse\u001b[0m\u001b[0;34m:\u001b[0m\u001b[0;34m\u001b[0m\u001b[0;34m\u001b[0m\u001b[0m\n\u001b[1;32m   1313\u001b[0m                 \u001b[0mself\u001b[0m\u001b[0;34m.\u001b[0m\u001b[0m_lock\u001b[0m\u001b[0;34m.\u001b[0m\u001b[0macquire\u001b[0m\u001b[0;34m(\u001b[0m\u001b[0;34m)\u001b[0m\u001b[0;34m\u001b[0m\u001b[0;34m\u001b[0m\u001b[0m\n\u001b[0;32m-> 1314\u001b[0;31m         \u001b[0mself\u001b[0m\u001b[0;34m.\u001b[0m\u001b[0mdisplay\u001b[0m\u001b[0;34m(\u001b[0m\u001b[0;34m)\u001b[0m\u001b[0;34m\u001b[0m\u001b[0;34m\u001b[0m\u001b[0m\n\u001b[0m\u001b[1;32m   1315\u001b[0m         \u001b[0;32mif\u001b[0m \u001b[0;32mnot\u001b[0m \u001b[0mnolock\u001b[0m\u001b[0;34m:\u001b[0m\u001b[0;34m\u001b[0m\u001b[0;34m\u001b[0m\u001b[0m\n\u001b[1;32m   1316\u001b[0m             \u001b[0mself\u001b[0m\u001b[0;34m.\u001b[0m\u001b[0m_lock\u001b[0m\u001b[0;34m.\u001b[0m\u001b[0mrelease\u001b[0m\u001b[0;34m(\u001b[0m\u001b[0;34m)\u001b[0m\u001b[0;34m\u001b[0m\u001b[0;34m\u001b[0m\u001b[0m\n",
      "\u001b[0;32m/net/coxfs01/srv/export/coxfs01/pfister_lab2/share_root/Lab/akash/envs/nbase/lib/python3.6/site-packages/tqdm/std.py\u001b[0m in \u001b[0;36mdisplay\u001b[0;34m(self, msg, pos)\u001b[0m\n\u001b[1;32m   1436\u001b[0m         \u001b[0;32mif\u001b[0m \u001b[0mpos\u001b[0m\u001b[0;34m:\u001b[0m\u001b[0;34m\u001b[0m\u001b[0;34m\u001b[0m\u001b[0m\n\u001b[1;32m   1437\u001b[0m             \u001b[0mself\u001b[0m\u001b[0;34m.\u001b[0m\u001b[0mmoveto\u001b[0m\u001b[0;34m(\u001b[0m\u001b[0mpos\u001b[0m\u001b[0;34m)\u001b[0m\u001b[0;34m\u001b[0m\u001b[0;34m\u001b[0m\u001b[0m\n\u001b[0;32m-> 1438\u001b[0;31m         \u001b[0mself\u001b[0m\u001b[0;34m.\u001b[0m\u001b[0msp\u001b[0m\u001b[0;34m(\u001b[0m\u001b[0mself\u001b[0m\u001b[0;34m.\u001b[0m\u001b[0m__repr__\u001b[0m\u001b[0;34m(\u001b[0m\u001b[0;34m)\u001b[0m \u001b[0;32mif\u001b[0m \u001b[0mmsg\u001b[0m \u001b[0;32mis\u001b[0m \u001b[0;32mNone\u001b[0m \u001b[0;32melse\u001b[0m \u001b[0mmsg\u001b[0m\u001b[0;34m)\u001b[0m\u001b[0;34m\u001b[0m\u001b[0;34m\u001b[0m\u001b[0m\n\u001b[0m\u001b[1;32m   1439\u001b[0m         \u001b[0;32mif\u001b[0m \u001b[0mpos\u001b[0m\u001b[0;34m:\u001b[0m\u001b[0;34m\u001b[0m\u001b[0;34m\u001b[0m\u001b[0m\n\u001b[1;32m   1440\u001b[0m             \u001b[0mself\u001b[0m\u001b[0;34m.\u001b[0m\u001b[0mmoveto\u001b[0m\u001b[0;34m(\u001b[0m\u001b[0;34m-\u001b[0m\u001b[0mpos\u001b[0m\u001b[0;34m)\u001b[0m\u001b[0;34m\u001b[0m\u001b[0;34m\u001b[0m\u001b[0m\n",
      "\u001b[0;32m/net/coxfs01/srv/export/coxfs01/pfister_lab2/share_root/Lab/akash/envs/nbase/lib/python3.6/site-packages/tqdm/std.py\u001b[0m in \u001b[0;36mprint_status\u001b[0;34m(s)\u001b[0m\n\u001b[1;32m    303\u001b[0m         \u001b[0;32mdef\u001b[0m \u001b[0mprint_status\u001b[0m\u001b[0;34m(\u001b[0m\u001b[0ms\u001b[0m\u001b[0;34m)\u001b[0m\u001b[0;34m:\u001b[0m\u001b[0;34m\u001b[0m\u001b[0;34m\u001b[0m\u001b[0m\n\u001b[1;32m    304\u001b[0m             \u001b[0mlen_s\u001b[0m \u001b[0;34m=\u001b[0m \u001b[0mlen\u001b[0m\u001b[0;34m(\u001b[0m\u001b[0ms\u001b[0m\u001b[0;34m)\u001b[0m\u001b[0;34m\u001b[0m\u001b[0;34m\u001b[0m\u001b[0m\n\u001b[0;32m--> 305\u001b[0;31m             \u001b[0mfp_write\u001b[0m\u001b[0;34m(\u001b[0m\u001b[0;34m'\\r'\u001b[0m \u001b[0;34m+\u001b[0m \u001b[0ms\u001b[0m \u001b[0;34m+\u001b[0m \u001b[0;34m(\u001b[0m\u001b[0;34m' '\u001b[0m \u001b[0;34m*\u001b[0m \u001b[0mmax\u001b[0m\u001b[0;34m(\u001b[0m\u001b[0mlast_len\u001b[0m\u001b[0;34m[\u001b[0m\u001b[0;36m0\u001b[0m\u001b[0;34m]\u001b[0m \u001b[0;34m-\u001b[0m \u001b[0mlen_s\u001b[0m\u001b[0;34m,\u001b[0m \u001b[0;36m0\u001b[0m\u001b[0;34m)\u001b[0m\u001b[0;34m)\u001b[0m\u001b[0;34m)\u001b[0m\u001b[0;34m\u001b[0m\u001b[0;34m\u001b[0m\u001b[0m\n\u001b[0m\u001b[1;32m    306\u001b[0m             \u001b[0mlast_len\u001b[0m\u001b[0;34m[\u001b[0m\u001b[0;36m0\u001b[0m\u001b[0;34m]\u001b[0m \u001b[0;34m=\u001b[0m \u001b[0mlen_s\u001b[0m\u001b[0;34m\u001b[0m\u001b[0;34m\u001b[0m\u001b[0m\n\u001b[1;32m    307\u001b[0m \u001b[0;34m\u001b[0m\u001b[0m\n",
      "\u001b[0;32m/net/coxfs01/srv/export/coxfs01/pfister_lab2/share_root/Lab/akash/envs/nbase/lib/python3.6/site-packages/tqdm/std.py\u001b[0m in \u001b[0;36mfp_write\u001b[0;34m(s)\u001b[0m\n\u001b[1;32m    297\u001b[0m         \u001b[0;32mdef\u001b[0m \u001b[0mfp_write\u001b[0m\u001b[0;34m(\u001b[0m\u001b[0ms\u001b[0m\u001b[0;34m)\u001b[0m\u001b[0;34m:\u001b[0m\u001b[0;34m\u001b[0m\u001b[0;34m\u001b[0m\u001b[0m\n\u001b[1;32m    298\u001b[0m             \u001b[0mfp\u001b[0m\u001b[0;34m.\u001b[0m\u001b[0mwrite\u001b[0m\u001b[0;34m(\u001b[0m\u001b[0m_unicode\u001b[0m\u001b[0;34m(\u001b[0m\u001b[0ms\u001b[0m\u001b[0;34m)\u001b[0m\u001b[0;34m)\u001b[0m\u001b[0;34m\u001b[0m\u001b[0;34m\u001b[0m\u001b[0m\n\u001b[0;32m--> 299\u001b[0;31m             \u001b[0mfp_flush\u001b[0m\u001b[0;34m(\u001b[0m\u001b[0;34m)\u001b[0m\u001b[0;34m\u001b[0m\u001b[0;34m\u001b[0m\u001b[0m\n\u001b[0m\u001b[1;32m    300\u001b[0m \u001b[0;34m\u001b[0m\u001b[0m\n\u001b[1;32m    301\u001b[0m         \u001b[0mlast_len\u001b[0m \u001b[0;34m=\u001b[0m \u001b[0;34m[\u001b[0m\u001b[0;36m0\u001b[0m\u001b[0;34m]\u001b[0m\u001b[0;34m\u001b[0m\u001b[0;34m\u001b[0m\u001b[0m\n",
      "\u001b[0;32m/net/coxfs01/srv/export/coxfs01/pfister_lab2/share_root/Lab/akash/envs/nbase/lib/python3.6/site-packages/ipykernel/iostream.py\u001b[0m in \u001b[0;36mflush\u001b[0;34m(self)\u001b[0m\n\u001b[1;32m    341\u001b[0m         \u001b[0;32mif\u001b[0m \u001b[0mself\u001b[0m\u001b[0;34m.\u001b[0m\u001b[0mpub_thread\u001b[0m \u001b[0;32mand\u001b[0m \u001b[0mself\u001b[0m\u001b[0;34m.\u001b[0m\u001b[0mpub_thread\u001b[0m\u001b[0;34m.\u001b[0m\u001b[0mthread\u001b[0m \u001b[0;32mis\u001b[0m \u001b[0;32mnot\u001b[0m \u001b[0;32mNone\u001b[0m \u001b[0;32mand\u001b[0m \u001b[0mself\u001b[0m\u001b[0;34m.\u001b[0m\u001b[0mpub_thread\u001b[0m\u001b[0;34m.\u001b[0m\u001b[0mthread\u001b[0m\u001b[0;34m.\u001b[0m\u001b[0mis_alive\u001b[0m\u001b[0;34m(\u001b[0m\u001b[0;34m)\u001b[0m\u001b[0;34m:\u001b[0m\u001b[0;34m\u001b[0m\u001b[0;34m\u001b[0m\u001b[0m\n\u001b[1;32m    342\u001b[0m             \u001b[0;31m# request flush on the background thread\u001b[0m\u001b[0;34m\u001b[0m\u001b[0;34m\u001b[0m\u001b[0;34m\u001b[0m\u001b[0m\n\u001b[0;32m--> 343\u001b[0;31m             \u001b[0mself\u001b[0m\u001b[0;34m.\u001b[0m\u001b[0mpub_thread\u001b[0m\u001b[0;34m.\u001b[0m\u001b[0mschedule\u001b[0m\u001b[0;34m(\u001b[0m\u001b[0mself\u001b[0m\u001b[0;34m.\u001b[0m\u001b[0m_flush\u001b[0m\u001b[0;34m)\u001b[0m\u001b[0;34m\u001b[0m\u001b[0;34m\u001b[0m\u001b[0m\n\u001b[0m\u001b[1;32m    344\u001b[0m             \u001b[0;31m# wait for flush to actually get through, if we can.\u001b[0m\u001b[0;34m\u001b[0m\u001b[0;34m\u001b[0m\u001b[0;34m\u001b[0m\u001b[0m\n\u001b[1;32m    345\u001b[0m             \u001b[0;31m# waiting across threads during import can cause deadlocks\u001b[0m\u001b[0;34m\u001b[0m\u001b[0;34m\u001b[0m\u001b[0;34m\u001b[0m\u001b[0m\n",
      "\u001b[0;32m/net/coxfs01/srv/export/coxfs01/pfister_lab2/share_root/Lab/akash/envs/nbase/lib/python3.6/site-packages/ipykernel/iostream.py\u001b[0m in \u001b[0;36mschedule\u001b[0;34m(self, f)\u001b[0m\n\u001b[1;32m    203\u001b[0m             \u001b[0mself\u001b[0m\u001b[0;34m.\u001b[0m\u001b[0m_events\u001b[0m\u001b[0;34m.\u001b[0m\u001b[0mappend\u001b[0m\u001b[0;34m(\u001b[0m\u001b[0mf\u001b[0m\u001b[0;34m)\u001b[0m\u001b[0;34m\u001b[0m\u001b[0;34m\u001b[0m\u001b[0m\n\u001b[1;32m    204\u001b[0m             \u001b[0;31m# wake event thread (message content is ignored)\u001b[0m\u001b[0;34m\u001b[0m\u001b[0;34m\u001b[0m\u001b[0;34m\u001b[0m\u001b[0m\n\u001b[0;32m--> 205\u001b[0;31m             \u001b[0mself\u001b[0m\u001b[0;34m.\u001b[0m\u001b[0m_event_pipe\u001b[0m\u001b[0;34m.\u001b[0m\u001b[0msend\u001b[0m\u001b[0;34m(\u001b[0m\u001b[0;34mb''\u001b[0m\u001b[0;34m)\u001b[0m\u001b[0;34m\u001b[0m\u001b[0;34m\u001b[0m\u001b[0m\n\u001b[0m\u001b[1;32m    206\u001b[0m         \u001b[0;32melse\u001b[0m\u001b[0;34m:\u001b[0m\u001b[0;34m\u001b[0m\u001b[0;34m\u001b[0m\u001b[0m\n\u001b[1;32m    207\u001b[0m             \u001b[0mf\u001b[0m\u001b[0;34m(\u001b[0m\u001b[0;34m)\u001b[0m\u001b[0;34m\u001b[0m\u001b[0;34m\u001b[0m\u001b[0m\n",
      "\u001b[0;32m/net/coxfs01/srv/export/coxfs01/pfister_lab2/share_root/Lab/akash/envs/nbase/lib/python3.6/site-packages/zmq/sugar/socket.py\u001b[0m in \u001b[0;36msend\u001b[0;34m(self, data, flags, copy, track, routing_id, group)\u001b[0m\n\u001b[1;32m    398\u001b[0m                                  copy_threshold=self.copy_threshold)\n\u001b[1;32m    399\u001b[0m             \u001b[0mdata\u001b[0m\u001b[0;34m.\u001b[0m\u001b[0mgroup\u001b[0m \u001b[0;34m=\u001b[0m \u001b[0mgroup\u001b[0m\u001b[0;34m\u001b[0m\u001b[0;34m\u001b[0m\u001b[0m\n\u001b[0;32m--> 400\u001b[0;31m         \u001b[0;32mreturn\u001b[0m \u001b[0msuper\u001b[0m\u001b[0;34m(\u001b[0m\u001b[0mSocket\u001b[0m\u001b[0;34m,\u001b[0m \u001b[0mself\u001b[0m\u001b[0;34m)\u001b[0m\u001b[0;34m.\u001b[0m\u001b[0msend\u001b[0m\u001b[0;34m(\u001b[0m\u001b[0mdata\u001b[0m\u001b[0;34m,\u001b[0m \u001b[0mflags\u001b[0m\u001b[0;34m=\u001b[0m\u001b[0mflags\u001b[0m\u001b[0;34m,\u001b[0m \u001b[0mcopy\u001b[0m\u001b[0;34m=\u001b[0m\u001b[0mcopy\u001b[0m\u001b[0;34m,\u001b[0m \u001b[0mtrack\u001b[0m\u001b[0;34m=\u001b[0m\u001b[0mtrack\u001b[0m\u001b[0;34m)\u001b[0m\u001b[0;34m\u001b[0m\u001b[0;34m\u001b[0m\u001b[0m\n\u001b[0m\u001b[1;32m    401\u001b[0m \u001b[0;34m\u001b[0m\u001b[0m\n\u001b[1;32m    402\u001b[0m     \u001b[0;32mdef\u001b[0m \u001b[0msend_multipart\u001b[0m\u001b[0;34m(\u001b[0m\u001b[0mself\u001b[0m\u001b[0;34m,\u001b[0m \u001b[0mmsg_parts\u001b[0m\u001b[0;34m,\u001b[0m \u001b[0mflags\u001b[0m\u001b[0;34m=\u001b[0m\u001b[0;36m0\u001b[0m\u001b[0;34m,\u001b[0m \u001b[0mcopy\u001b[0m\u001b[0;34m=\u001b[0m\u001b[0;32mTrue\u001b[0m\u001b[0;34m,\u001b[0m \u001b[0mtrack\u001b[0m\u001b[0;34m=\u001b[0m\u001b[0;32mFalse\u001b[0m\u001b[0;34m,\u001b[0m \u001b[0;34m**\u001b[0m\u001b[0mkwargs\u001b[0m\u001b[0;34m)\u001b[0m\u001b[0;34m:\u001b[0m\u001b[0;34m\u001b[0m\u001b[0;34m\u001b[0m\u001b[0m\n",
      "\u001b[0;32mzmq/backend/cython/socket.pyx\u001b[0m in \u001b[0;36mzmq.backend.cython.socket.Socket.send\u001b[0;34m()\u001b[0m\n",
      "\u001b[0;32mzmq/backend/cython/socket.pyx\u001b[0m in \u001b[0;36mzmq.backend.cython.socket.Socket.send\u001b[0;34m()\u001b[0m\n",
      "\u001b[0;32mzmq/backend/cython/socket.pyx\u001b[0m in \u001b[0;36mzmq.backend.cython.socket._send_copy\u001b[0;34m()\u001b[0m\n",
      "\u001b[0;32m/net/coxfs01/srv/export/coxfs01/pfister_lab2/share_root/Lab/akash/envs/nbase/lib/python3.6/site-packages/zmq/backend/cython/checkrc.pxd\u001b[0m in \u001b[0;36mzmq.backend.cython.checkrc._check_rc\u001b[0;34m()\u001b[0m\n",
      "\u001b[0;31mKeyboardInterrupt\u001b[0m: "
     ]
    }
   ],
   "source": [
    "%run run_exp"
   ]
  },
  {
   "cell_type": "code",
   "execution_count": null,
   "metadata": {},
   "outputs": [],
   "source": []
  }
 ],
 "metadata": {
  "kernelspec": {
   "display_name": "Python 3",
   "language": "python",
   "name": "python3"
  },
  "language_info": {
   "codemirror_mode": {
    "name": "ipython",
    "version": 3
   },
   "file_extension": ".py",
   "mimetype": "text/x-python",
   "name": "python",
   "nbconvert_exporter": "python",
   "pygments_lexer": "ipython3",
   "version": "3.6.9"
  }
 },
 "nbformat": 4,
 "nbformat_minor": 2
}
